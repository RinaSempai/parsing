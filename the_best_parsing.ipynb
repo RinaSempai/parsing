{
 "cells": [
  {
   "cell_type": "markdown",
   "id": "682bdb89",
   "metadata": {},
   "source": [
    "# СБОР СПИСКА СЛОВ"
   ]
  },
  {
   "cell_type": "code",
   "execution_count": null,
   "id": "efd03215",
   "metadata": {},
   "outputs": [],
   "source": [
    "import pandas as pd\n",
    "import requests\n",
    "from bs4 import BeautifulSoup\n",
    "from tqdm import tqdm\n",
    "import time\n",
    "from concurrent.futures import ThreadPoolExecutor\n",
    "\n",
    "# Функция для замены специальных символов\n",
    "def sanitize_word(word):\n",
    "    sanitized = word.replace(' ', '-').replace('/', '-').replace(',','')\n",
    "    return sanitized\n",
    "\n",
    "# Функция для парсинга страницы по слову и букве с повторными попытками\n",
    "def parse_word_page(args):\n",
    "    letter, word = args\n",
    "    sanitized_word = sanitize_word(word)\n",
    "    url = f'https://dictionary.cambridge.org/browse/english-russian/{letter}/{sanitized_word}/'\n",
    "    headers = {\n",
    "        'User-Agent': 'Mozilla/5.0 (Windows NT 10.0; Win64; x64) AppleWebKit/537.36 (KHTML, like Gecko) Chrome/58.0.3029.110 Safari/537.3'}\n",
    "\n",
    "    attempt = 0\n",
    "    while True:  # Бесконечный цикл\n",
    "        attempt += 1\n",
    "        try:\n",
    "            response = requests.get(url, headers=headers, timeout=10)  # Установить тайм-аут\n",
    "            if response.status_code == 200:\n",
    "                soup = BeautifulSoup(response.text, 'html.parser')\n",
    "                elements = soup.find_all('div', class_='hlh32')\n",
    "                results = [element.text.replace('/', ' ').strip() for element in elements]\n",
    "                return results\n",
    "            else:\n",
    "                print(f\"Ошибка доступа к слову: {word}, статус: {response.status_code}, попытка {attempt}\")\n",
    "        except requests.exceptions.RequestException as e:\n",
    "            print(f\"Исключение при доступе к слову: {word}, ошибка: {e}, попытка {attempt}\")\n",
    "        \n",
    "        time.sleep(1)  # Небольшая пауза перед повторной попыткой\n",
    "        if attempt >= 10:  # Ограничение на количество попыток\n",
    "            print(f\"Не удалось получить доступ к слову: {word} после {attempt} попыток\")\n",
    "            return None\n",
    "\n",
    "# Загрузка данных из файла Excel\n",
    "df = pd.read_excel('cambridge_hlh32_data.xlsx')\n",
    "\n",
    "# Список для хранения всех запросов\n",
    "requests_to_process = []\n",
    "\n",
    "# Проход по строкам файла\n",
    "for index, row in df.iterrows():\n",
    "    entry = row['Entry']\n",
    "    first_word = entry.split('...')[0].strip()  # Извлечение первого слова\n",
    "    letter = first_word[0].lower()  # Определение буквы\n",
    "    requests_to_process.append((letter, first_word))\n",
    "\n",
    "# Использование ThreadPoolExecutor для многопоточности\n",
    "all_results = []\n",
    "\n",
    "with ThreadPoolExecutor(max_workers=10) as executor:\n",
    "    futures = {executor.submit(parse_word_page, args): args for args in requests_to_process}\n",
    "\n",
    "    for future in tqdm(futures):\n",
    "        word_data = future.result()\n",
    "        if word_data:\n",
    "            all_results.extend(word_data)\n",
    "\n",
    "# Сохранение результатов в Excel\n",
    "results_df = pd.DataFrame(all_results)\n",
    "results_df.to_excel('parsed_cambridge_data.xlsx', index=False)\n",
    "\n",
    "print(\"Данные успешно сохранены в файл parsed_cambridge_data.xlsx\")\n"
   ]
  },
  {
   "cell_type": "markdown",
   "id": "cdc2a9cc",
   "metadata": {},
   "source": [
    "## Парсинг фразовых глаголов"
   ]
  },
  {
   "cell_type": "code",
   "execution_count": null,
   "id": "1fbcf098",
   "metadata": {},
   "outputs": [],
   "source": [
    "import requests\n",
    "from bs4 import BeautifulSoup\n",
    "import pandas as pd\n",
    "import time\n",
    "from tqdm import tqdm\n",
    "from concurrent.futures import ThreadPoolExecutor, as_completed\n",
    "\n",
    "# Функция для очистки фразы и замены символов\n",
    "def sanitize_phrase(phrase):\n",
    "    sanitized = phrase.replace(' ', '-')\n",
    "    sanitized = sanitized.replace('/', '-').replace(',', '').replace('\\'', '-').replace('.', '')\n",
    "    return sanitized\n",
    "\n",
    "# Функция для получения данных с Cambridge Dictionary с обработкой ошибок и повторными попытками\n",
    "def parse_cambridge(word, retries=20, delay=0.1):\n",
    "    base_url = 'https://dictionary.cambridge.org/ru/словарь/англо-русский/'\n",
    "    word_url = sanitize_phrase(word)\n",
    "    url = f'{base_url}{word_url}'\n",
    "    \n",
    "    # Заголовки, включая User-Agent\n",
    "    headers = {\n",
    "        'User-Agent': 'Mozilla/5.0 (Windows NT 10.0; Win64; x64; rv:92.0) Gecko/20100101 Firefox/92.0'\n",
    "    }\n",
    "    \n",
    "    for attempt in range(retries):\n",
    "        try:\n",
    "            response = requests.get(url, headers=headers, timeout=10)  # Увеличиваем timeout до 10 секунд\n",
    "            response.raise_for_status()  # Проверяем, успешен ли запрос\n",
    "            soup = BeautifulSoup(response.content, 'html.parser')\n",
    "            \n",
    "            # Поиск pv-block\n",
    "            pv_block = soup.find('div', {'class': 'pv-block'})\n",
    "            if not pv_block:\n",
    "                return None\n",
    "\n",
    "            # Извлечение слова\n",
    "            headword = pv_block.find('b').text if pv_block.find('b') else 'Нет слова'\n",
    "\n",
    "            # Извлечение переводов (trans) и примеров (eg)\n",
    "            translations = []\n",
    "            for sense_block in pv_block.find_all('div', {'class': 'dsense'}):\n",
    "                trans = sense_block.find('span', {'class': 'trans'}).text if sense_block.find('span', {'class': 'trans'}) else 'Нет перевода'\n",
    "                eg = sense_block.find('span', {'class': 'eg'}).text if sense_block.find('span', {'class': 'eg'}) else 'Нет примера'\n",
    "                translations.append({'translation': trans, 'example': eg})\n",
    "\n",
    "            return {'word': word, 'headword': headword, 'translations': translations}\n",
    "        \n",
    "        except (requests.exceptions.Timeout, requests.exceptions.ConnectionError) as e:\n",
    "            print(f'Попытка {attempt+1} для слова \"{word}\" не удалась. Ошибка: {e}')\n",
    "            if attempt < retries - 1:\n",
    "                time.sleep(delay)  # Ожидание перед повторной попыткой\n",
    "            else:\n",
    "                print(f'Не удалось подключиться к {url} после {retries} попыток.')\n",
    "                return None\n",
    "\n",
    "# Функция для обработки каждой фразы\n",
    "def process_phrase(phrase):\n",
    "    data = parse_cambridge(phrase)\n",
    "    if data:\n",
    "        results = []\n",
    "        for translation in data['translations']:\n",
    "            results.append({\n",
    "                'word': data['word'],\n",
    "                'headword': data['headword'],\n",
    "                'translation': translation['translation'],\n",
    "                'example': translation['example']\n",
    "            })\n",
    "        return results\n",
    "    return []\n",
    "\n",
    "# Чтение фраз из Excel файла\n",
    "file_path = 'parsed_cambridge_data.xlsx'\n",
    "parsed_data = pd.read_excel(file_path)\n",
    "\n",
    "# Использование ThreadPoolExecutor для многопоточного парсинга\n",
    "results = []\n",
    "with ThreadPoolExecutor(max_workers=10) as executor:  # Указываем количество потоков\n",
    "    futures = {executor.submit(process_phrase, phrase): phrase for phrase in parsed_data[parsed_data.columns[0]]}\n",
    "    \n",
    "    for future in tqdm(as_completed(futures), total=len(futures), desc=\"Парсинг слов\"):\n",
    "        result = future.result()\n",
    "        if result:\n",
    "            results.extend(result)\n",
    "\n",
    "# Преобразование результатов в DataFrame для удобного вывода\n",
    "parsed_df = pd.DataFrame(results)\n",
    "\n",
    "# Сохранение результатов в Excel, где каждый перевод на новой строке\n",
    "parsed_df.to_excel('parsed_cambridge_pv.xlsx', index=False)\n"
   ]
  },
  {
   "cell_type": "code",
   "execution_count": null,
   "id": "33c783ec",
   "metadata": {},
   "outputs": [],
   "source": [
    "import os"
   ]
  },
  {
   "cell_type": "code",
   "execution_count": null,
   "id": "2fc8aae0",
   "metadata": {},
   "outputs": [],
   "source": [
    "os.startfile('parsed_cambridge_pv.xlsx')"
   ]
  },
  {
   "cell_type": "markdown",
   "id": "70bf7ca0",
   "metadata": {},
   "source": [
    "# Перевод фразовых глаголов"
   ]
  },
  {
   "cell_type": "code",
   "execution_count": null,
   "id": "84f08bf4",
   "metadata": {},
   "outputs": [],
   "source": [
    "import pandas as pd\n",
    "from deep_translator import GoogleTranslator\n",
    "from tqdm import tqdm\n",
    "from concurrent.futures import ThreadPoolExecutor, as_completed\n",
    "\n",
    "# Загрузка файла\n",
    "file_path = 'parsed_cambridge_pv.xlsx'\n",
    "df = pd.read_excel(file_path)\n",
    "\n",
    "# Функция для перевода текста\n",
    "def translate_example(example):\n",
    "    if example == 'Нет примера':\n",
    "        return 'Нет примера'\n",
    "    try:\n",
    "        translation = GoogleTranslator(source='auto', target='ru').translate(example)\n",
    "        return translation\n",
    "    except Exception as e:\n",
    "        print(f\"Ошибка при переводе: {e}\")\n",
    "        return 'Ошибка'\n",
    "\n",
    "# Функция для многопоточного перевода\n",
    "def translate_examples_in_parallel(examples):\n",
    "    translations = [None] * len(examples)  # Инициализируем список переводов\n",
    "    with ThreadPoolExecutor(max_workers=5) as executor:  # Укажите количество потоков\n",
    "        future_to_index = {executor.submit(translate_example, example): index for index, example in enumerate(examples)}\n",
    "        for future in tqdm(as_completed(future_to_index), total=len(future_to_index), desc=\"Перевод примеров\"):\n",
    "            index = future_to_index[future]\n",
    "            translations[index] = future.result()  # Сохраняем результат в правильный индекс\n",
    "    return translations\n",
    "\n",
    "# Применение многопоточного перевода ко всем примерам\n",
    "df['translated_example'] = translate_examples_in_parallel(df['example'].tolist())\n",
    "\n",
    "# Сохранение результата в новый файл\n",
    "output_path = 'parsed_cambridge_pv_translated.xlsx'\n",
    "df.to_excel(output_path, index=False)\n",
    "\n",
    "print(f\"Переводы записаны в файл: {output_path}\")\n"
   ]
  },
  {
   "cell_type": "markdown",
   "id": "7b49d7a4",
   "metadata": {},
   "source": [
    "# Парсинг идиом"
   ]
  },
  {
   "cell_type": "code",
   "execution_count": null,
   "id": "dd75d878",
   "metadata": {},
   "outputs": [],
   "source": [
    "import requests\n",
    "from bs4 import BeautifulSoup\n",
    "import pandas as pd\n",
    "import time\n",
    "from tqdm import tqdm\n",
    "from concurrent.futures import ThreadPoolExecutor, as_completed\n",
    "\n",
    "# Функция для очистки фразы и замены символов\n",
    "def sanitize_phrase(phrase):\n",
    "    sanitized = phrase.replace(' ', '-')\n",
    "    sanitized = sanitized.replace('/', '-').replace(',', '').replace('\\'', '-').replace('.', '')\n",
    "    return sanitized\n",
    "\n",
    "# Функция для получения данных с Cambridge Dictionary с обработкой ошибок и повторными попытками\n",
    "def parse_cambridge(word, retries=20, delay=0.1):\n",
    "    base_url = 'https://dictionary.cambridge.org/ru/словарь/англо-русский/'\n",
    "    word_url = sanitize_phrase(word)\n",
    "    url = f'{base_url}{word_url}'\n",
    "    \n",
    "    # Заголовки, включая User-Agent\n",
    "    headers = {\n",
    "        'User-Agent': 'Mozilla/5.0 (Windows NT 10.0; Win64; x64; rv:92.0) Gecko/20100101 Firefox/92.0'\n",
    "    }\n",
    "    \n",
    "    for attempt in range(retries):\n",
    "        try:\n",
    "            response = requests.get(url, headers=headers, timeout=10)  # Увеличиваем timeout до 10 секунд\n",
    "            response.raise_for_status()  # Проверяем, успешен ли запрос\n",
    "            soup = BeautifulSoup(response.content, 'html.parser')\n",
    "            \n",
    "            # Поиск idiom-block\n",
    "            idiom_block = soup.find('div', {'class': 'idiom-block'})\n",
    "            if not idiom_block:\n",
    "                return None\n",
    "\n",
    "            # Извлечение headword идиомы\n",
    "            headword = idiom_block.find('h2', {'class': 'headword'}).text if idiom_block.find('h2', {'class': 'headword'}) else 'Нет слова'\n",
    "\n",
    "            # Извлечение переводов (trans) и примеров (eg)\n",
    "            translations = []\n",
    "            for idiom in idiom_block.find_all('div', {'class': 'def-block'}):\n",
    "                trans = idiom.find('span', {'class': 'trans'}).text if idiom.find('span', {'class': 'trans'}) else 'Нет перевода'\n",
    "                example = idiom.find('span', {'class': 'eg'}).text if idiom.find('span', {'class': 'eg'}) else 'Нет примера'\n",
    "                translations.append({'translation': trans, 'example': example})\n",
    "\n",
    "            return {'word': word, 'headword': headword, 'translations': translations}\n",
    "        \n",
    "        except (requests.exceptions.Timeout, requests.exceptions.ConnectionError) as e:\n",
    "            print(f'Попытка {attempt+1} для слова \"{word}\" не удалась. Ошибка: {e}')\n",
    "            if attempt < retries - 1:\n",
    "                time.sleep(delay)  # Ожидание перед повторной попыткой\n",
    "            else:\n",
    "                print(f'Не удалось подключиться к {url} после {retries} попыток.')\n",
    "                return None\n",
    "\n",
    "# Функция для многопоточной обработки фраз\n",
    "def process_words(word_list, max_workers=10):\n",
    "    results = []\n",
    "    with ThreadPoolExecutor(max_workers=max_workers) as executor:\n",
    "        futures = {executor.submit(parse_cambridge, word): word for word in word_list}\n",
    "        for future in tqdm(as_completed(futures), total=len(futures), desc=\"Парсинг слов\"):\n",
    "            word = futures[future]\n",
    "            try:\n",
    "                data = future.result()\n",
    "                if data:\n",
    "                    for translation in data['translations']:\n",
    "                        results.append({\n",
    "                            'word': data['word'],\n",
    "                            'headword': data['headword'],\n",
    "                            'translation': translation['translation'],\n",
    "                            'example': translation['example']\n",
    "                        })\n",
    "            except Exception as e:\n",
    "                print(f\"Ошибка при обработке слова {word}: {e}\")\n",
    "    return results\n",
    "\n",
    "# Чтение фраз из Excel файла\n",
    "file_path = 'parsed_cambridge_data.xlsx'\n",
    "parsed_data = pd.read_excel(file_path)\n",
    "\n",
    "# Многопоточная обработка фраз\n",
    "word_list = parsed_data[parsed_data.columns[0]].tolist()  # Преобразуем столбец в список\n",
    "results = process_words(word_list)\n",
    "\n",
    "# Преобразование результатов в DataFrame для удобного вывода\n",
    "parsed_df = pd.DataFrame(results)\n",
    "\n",
    "# Сохранение результатов в Excel, где каждый перевод на новой строке\n",
    "parsed_df.to_excel('parsed_cambridge_idioms.xlsx', index=False)\n"
   ]
  },
  {
   "cell_type": "markdown",
   "id": "0594a37e",
   "metadata": {},
   "source": [
    "# Перевод идиом"
   ]
  },
  {
   "cell_type": "code",
   "execution_count": null,
   "id": "7bd9139f",
   "metadata": {},
   "outputs": [],
   "source": [
    "import pandas as pd\n",
    "from deep_translator import GoogleTranslator\n",
    "from tqdm import tqdm\n",
    "from concurrent.futures import ThreadPoolExecutor, as_completed\n",
    "\n",
    "# Загрузка файла\n",
    "file_path = 'parsed_cambridge_idioms.xlsx'\n",
    "df = pd.read_excel(file_path)\n",
    "\n",
    "# Функция для перевода текста\n",
    "def translate_example(example):\n",
    "    if example == 'Нет примера':\n",
    "        return 'Нет примера'\n",
    "    try:\n",
    "        translation = GoogleTranslator(source='auto', target='ru').translate(example)\n",
    "        return translation\n",
    "    except Exception as e:\n",
    "        print(f\"Ошибка при переводе: {e}\")\n",
    "        return 'Ошибка'\n",
    "\n",
    "# Функция для многопоточного перевода\n",
    "def translate_examples_in_parallel(examples):\n",
    "    translations = [None] * len(examples)  # Инициализируем список переводов\n",
    "    with ThreadPoolExecutor(max_workers=5) as executor:  # Укажите количество потоков\n",
    "        future_to_index = {executor.submit(translate_example, example): index for index, example in enumerate(examples)}\n",
    "        for future in tqdm(as_completed(future_to_index), total=len(future_to_index), desc=\"Перевод примеров\"):\n",
    "            index = future_to_index[future]\n",
    "            translations[index] = future.result()  # Сохраняем результат в правильный индекс\n",
    "    return translations\n",
    "\n",
    "# Применение многопоточного перевода ко всем примерам\n",
    "df['translated_example'] = translate_examples_in_parallel(df['example'].tolist())\n",
    "\n",
    "# Сохранение результата в новый файл\n",
    "output_path = 'parsed_cambridge_idioms_translated.xlsx'\n",
    "df.to_excel(output_path, index=False)\n",
    "\n",
    "print(f\"Переводы записаны в файл: {output_path}\")\n"
   ]
  },
  {
   "cell_type": "markdown",
   "id": "8c6f3c79",
   "metadata": {},
   "source": [
    "# Парсинг phrase-block"
   ]
  },
  {
   "cell_type": "code",
   "execution_count": null,
   "id": "6d56ca79",
   "metadata": {
    "scrolled": true
   },
   "outputs": [],
   "source": [
    "import requests\n",
    "from bs4 import BeautifulSoup\n",
    "import pandas as pd\n",
    "import time\n",
    "from tqdm import tqdm\n",
    "from concurrent.futures import ThreadPoolExecutor, as_completed\n",
    "\n",
    "# Функция для очистки фразы и замены символов\n",
    "def sanitize_phrase(phrase):\n",
    "    sanitized = phrase.replace(' ', '-')\n",
    "    sanitized = sanitized.replace('/', '-').replace(',', '').replace('\\'', '-').replace('.', '')\n",
    "    return sanitized\n",
    "\n",
    "# Функция для получения данных с Cambridge Dictionary с обработкой ошибок и повторными попытками\n",
    "def parse_cambridge(word, retries=20, delay=0.1):\n",
    "    base_url = 'https://dictionary.cambridge.org/ru/словарь/англо-русский/'\n",
    "    word_url = sanitize_phrase(word)\n",
    "    url = f'{base_url}{word_url}'\n",
    "    \n",
    "    # Заголовки, включая User-Agent\n",
    "    headers = {\n",
    "        'User-Agent': 'Mozilla/5.0 (Windows NT 10.0; Win64; x64; rv:92.0) Gecko/20100101 Firefox/92.0'\n",
    "    }\n",
    "    \n",
    "    for attempt in range(retries):\n",
    "        try:\n",
    "            response = requests.get(url, headers=headers, timeout=10)  # Увеличиваем timeout до 10 секунд\n",
    "            response.raise_for_status()  # Проверяем, успешен ли запрос\n",
    "            soup = BeautifulSoup(response.content, 'html.parser')\n",
    "            \n",
    "            # Поиск всех блоков dsense\n",
    "            dsense_blocks = soup.find_all('div', {'class': 'dsense'})\n",
    "            if not dsense_blocks:\n",
    "                print(f'Блок dsense не найден для слова: {word}')\n",
    "                return None\n",
    "            \n",
    "            translations = []  # Список для хранения переводов\n",
    "            \n",
    "            for dsense in dsense_blocks:\n",
    "                # Поиск всех phrase-block в текущем dsense\n",
    "                phrase_blocks = dsense.find_all('div', {'class': 'phrase-block'})\n",
    "                for phrase_block in phrase_blocks:\n",
    "                    # Извлечение phrase-title\n",
    "                    phrase_title = phrase_block.find('span', {'class': 'phrase-title'}).text if phrase_block.find('span', {'class': 'phrase-title'}) else 'Нет заголовка'\n",
    "\n",
    "                    # Извлечение переводов (trans)\n",
    "                    for phrase in phrase_block.find_all('div', {'class': 'def-block'}):\n",
    "                        trans = phrase.find('span', {'class': 'trans'}).text if phrase.find('span', {'class': 'trans'}) else 'Нет перевода'\n",
    "                        example = phrase.find('span', {'class': 'eg'}).text if phrase.find('span', {'class': 'eg'}) else 'Нет примера'\n",
    "                        level = phrase.find('span', {'class': 'epp-xref'}).text if phrase.find('span', {'class': 'epp-xref'}) else 'без уровня'\n",
    "                        translations.append({'phrase_title': phrase_title, 'translation': trans, 'example': example, 'level': level})\n",
    "\n",
    "            return {'word': word, 'translations': translations}\n",
    "        \n",
    "        except (requests.exceptions.Timeout, requests.exceptions.ConnectionError) as e:\n",
    "            print(f'Попытка {attempt+1} для слова \"{word}\" не удалась. Ошибка: {e}')\n",
    "            if attempt < retries - 1:\n",
    "                time.sleep(delay)  # Ожидание перед повторной попыткой\n",
    "            else:\n",
    "                print(f'Не удалось подключиться к {url} после {retries} попыток.')\n",
    "                return None\n",
    "\n",
    "# Функция для многопоточной обработки фраз\n",
    "def process_words(word_list, max_workers=5):\n",
    "    results = []\n",
    "    with ThreadPoolExecutor(max_workers=max_workers) as executor:\n",
    "        futures = {executor.submit(parse_cambridge, word): word for word in word_list}\n",
    "        for future in tqdm(as_completed(futures), total=len(futures), desc=\"Парсинг слов\"):\n",
    "            word = futures[future]\n",
    "            try:\n",
    "                data = future.result()\n",
    "                if data:\n",
    "                    for translation in data['translations']:\n",
    "                        results.append({\n",
    "                            'word': data['word'],\n",
    "                            'phrase_title': translation['phrase_title'],\n",
    "                            'translation': translation['translation'],\n",
    "                            'example': translation['example'],\n",
    "                            'level': translation['level']\n",
    "                        })\n",
    "            except Exception as e:\n",
    "                print(f\"Ошибка при обработке слова {word}: {e}\")\n",
    "    return results\n",
    "\n",
    "# Чтение фраз из Excel файла\n",
    "file_path = 'parsed_cambridge_data.xlsx'\n",
    "parsed_data = pd.read_excel(file_path)\n",
    "\n",
    "# Многопоточная обработка фраз\n",
    "word_list = parsed_data[parsed_data.columns[0]].tolist()  # Преобразуем столбец в список\n",
    "results = process_words(word_list)\n",
    "\n",
    "# Преобразование результатов в DataFrame для удобного вывода\n",
    "parsed_df = pd.DataFrame(results)\n",
    "\n",
    "# Сохранение результатов в Excel, где каждый перевод на новой строке\n",
    "parsed_df.to_excel('parsed_cambridge_phrases.xlsx', index=False)\n"
   ]
  },
  {
   "cell_type": "code",
   "execution_count": null,
   "id": "8c4792b7",
   "metadata": {},
   "outputs": [],
   "source": [
    "import os"
   ]
  },
  {
   "cell_type": "code",
   "execution_count": null,
   "id": "6a2fd94b",
   "metadata": {},
   "outputs": [],
   "source": [
    "os.startfile('parsed_cambridge_phrases.xlsx')"
   ]
  },
  {
   "cell_type": "markdown",
   "id": "0926ddf5",
   "metadata": {},
   "source": [
    "# Перевод фраз"
   ]
  },
  {
   "cell_type": "code",
   "execution_count": null,
   "id": "494f906e",
   "metadata": {},
   "outputs": [],
   "source": [
    "import pandas as pd\n",
    "from deep_translator import GoogleTranslator\n",
    "from tqdm import tqdm\n",
    "from concurrent.futures import ThreadPoolExecutor, as_completed\n",
    "\n",
    "# Загрузка файла\n",
    "file_path = 'parsed_cambridge_phrases.xlsx'\n",
    "df = pd.read_excel(file_path)\n",
    "\n",
    "# Функция для перевода текста\n",
    "def translate_example(example):\n",
    "    if example == 'Нет примера':\n",
    "        return 'Нет примера'\n",
    "    try:\n",
    "        translation = GoogleTranslator(source='auto', target='ru').translate(example)\n",
    "        return translation\n",
    "    except Exception as e:\n",
    "        print(f\"Ошибка при переводе: {e}\")\n",
    "        return 'Ошибка'\n",
    "\n",
    "# Функция для многопоточного перевода\n",
    "def translate_examples_in_parallel(examples):\n",
    "    translations = [None] * len(examples)  # Инициализируем список переводов\n",
    "    with ThreadPoolExecutor(max_workers=5) as executor:  # Укажите количество потоков\n",
    "        future_to_index = {executor.submit(translate_example, example): index for index, example in enumerate(examples)}\n",
    "        for future in tqdm(as_completed(future_to_index), total=len(future_to_index), desc=\"Перевод примеров\"):\n",
    "            index = future_to_index[future]\n",
    "            translations[index] = future.result()  # Сохраняем результат в правильный индекс\n",
    "    return translations\n",
    "\n",
    "# Применение многопоточного перевода ко всем примерам\n",
    "df['translated_example'] = translate_examples_in_parallel(df['example'].tolist())\n",
    "\n",
    "# Сохранение результата в новый файл\n",
    "output_path = 'parsed_cambridge_phrases_translated.xlsx'\n",
    "df.to_excel(output_path, index=False)\n",
    "\n",
    "print(f\"Переводы записаны в файл: {output_path}\")\n"
   ]
  },
  {
   "cell_type": "code",
   "execution_count": null,
   "id": "48e6ceaa",
   "metadata": {},
   "outputs": [],
   "source": [
    "import os\n",
    "os.startfile('parsed_cambridge_phrases_translated.xlsx')"
   ]
  },
  {
   "cell_type": "markdown",
   "id": "085ec9b5",
   "metadata": {},
   "source": [
    "# Парсинг рунонов"
   ]
  },
  {
   "cell_type": "code",
   "execution_count": null,
   "id": "6923658f",
   "metadata": {
    "scrolled": true
   },
   "outputs": [],
   "source": [
    "import requests\n",
    "from bs4 import BeautifulSoup\n",
    "import pandas as pd\n",
    "import time\n",
    "from tqdm import tqdm\n",
    "from concurrent.futures import ThreadPoolExecutor, as_completed\n",
    "\n",
    "# Функция для очистки фразы и замены символов\n",
    "def sanitize_phrase(phrase):\n",
    "    sanitized = phrase.replace(' ', '-')\n",
    "    sanitized = sanitized.replace('/', '-').replace(',', '').replace('\\'', '-').replace('.', '')\n",
    "    return sanitized\n",
    "\n",
    "# Функция для получения данных с Cambridge Dictionary с обработкой ошибок и повторными попытками\n",
    "def parse_cambridge(word, retries=3, delay=2):\n",
    "    base_url = 'https://dictionary.cambridge.org/ru/словарь/англо-русский/'\n",
    "    word_url = sanitize_phrase(word)\n",
    "    url = f'{base_url}{word_url}'\n",
    "    \n",
    "    # Заголовки, включая User-Agent\n",
    "    headers = {\n",
    "        'User-Agent': 'Mozilla/5.0 (Windows NT 10.0; Win64; x64; rv:92.0) Gecko/20100101 Firefox/92.0'\n",
    "    }\n",
    "    \n",
    "    for attempt in range(retries):\n",
    "        try:\n",
    "            response = requests.get(url, headers=headers, timeout=10)  # Увеличиваем timeout до 10 секунд\n",
    "            response.raise_for_status()  # Проверяем, успешен ли запрос\n",
    "            soup = BeautifulSoup(response.content, 'html.parser')\n",
    "            \n",
    "            # Поиск всех блоков runon\n",
    "            runon_blocks = soup.find_all('div', {'class': 'runon'})\n",
    "            if not runon_blocks:\n",
    "                return None\n",
    "            \n",
    "            translations = []  # Список для хранения переводов\n",
    "            \n",
    "            for runon in runon_blocks:\n",
    "                # Извлечение runon-title\n",
    "                runon_title = runon.find('h3', {'class': 'runon-title'}).text.strip() if runon.find('h3', {'class': 'runon-title'}) else 'Нет заголовка'\n",
    "\n",
    "                # Извлечение переводов (trans)\n",
    "                trans = runon.find('span', {'class': 'trans'}).text.strip() if runon.find('span', {'class': 'trans'}) else 'Нет перевода'\n",
    "                example = runon.find('span', {'class': 'eg'}).text.strip() if runon.find('span', {'class': 'eg'}) else 'Нет примера'\n",
    "                \n",
    "                translations.append({'runon_title': runon_title, 'translation': trans, 'example': example})\n",
    "\n",
    "            return {'word': word, 'translations': translations}\n",
    "        \n",
    "        except (requests.exceptions.Timeout, requests.exceptions.ConnectionError) as e:\n",
    "            print(f'Попытка {attempt+1} для слова \"{word}\" не удалась. Ошибка: {e}')\n",
    "            if attempt < retries - 1:\n",
    "                time.sleep(delay)  # Ожидание перед повторной попыткой\n",
    "            else:\n",
    "                print(f'Не удалось подключиться к {url} после {retries} попыток.')\n",
    "                return None\n",
    "\n",
    "# Функция для многопоточной обработки фраз\n",
    "def process_words(word_list, max_workers=5):\n",
    "    results = []\n",
    "    with ThreadPoolExecutor(max_workers=max_workers) as executor:\n",
    "        futures = {executor.submit(parse_cambridge, word): word for word in word_list}\n",
    "        for future in tqdm(as_completed(futures), total=len(futures), desc=\"Парсинг слов\"):\n",
    "            word = futures[future]\n",
    "            try:\n",
    "                data = future.result()\n",
    "                if data:\n",
    "                    for translation in data['translations']:\n",
    "                        results.append({\n",
    "                            'word': data['word'],\n",
    "                            'runon_title': translation['runon_title'],\n",
    "                            'translation': translation['translation'],\n",
    "                            'example': translation['example']\n",
    "                        })\n",
    "            except Exception as e:\n",
    "                print(f\"Ошибка при обработке слова {word}: {e}\")\n",
    "    return results\n",
    "\n",
    "# Чтение фраз из Excel файла\n",
    "file_path = 'parsed_cambridge_data.xlsx'\n",
    "parsed_data = pd.read_excel(file_path)\n",
    "\n",
    "# Многопоточная обработка фраз\n",
    "word_list = parsed_data[parsed_data.columns[0]].tolist()  # Преобразуем столбец в список\n",
    "results = process_words(word_list)\n",
    "\n",
    "# Преобразование результатов в DataFrame для удобного вывода\n",
    "parsed_df = pd.DataFrame(results)\n",
    "\n",
    "# Сохранение результатов в Excel, где каждый перевод на новой строке\n",
    "parsed_df.to_excel('parsed_cambridge_runon.xlsx', index=False)\n"
   ]
  },
  {
   "cell_type": "code",
   "execution_count": null,
   "id": "2edc1bfe",
   "metadata": {},
   "outputs": [],
   "source": [
    "import os\n",
    "os.startfile('parsed_cambridge_runon.xlsx')"
   ]
  },
  {
   "cell_type": "markdown",
   "id": "cc34473e",
   "metadata": {},
   "source": [
    "# Парсинг слов"
   ]
  },
  {
   "cell_type": "code",
   "execution_count": 37,
   "id": "10e2ceda",
   "metadata": {},
   "outputs": [
    {
     "name": "stderr",
     "output_type": "stream",
     "text": [
      "Парсинг слов:   2%|█                                                             | 296/17930 [00:54<1:02:44,  4.68it/s]"
     ]
    },
    {
     "name": "stdout",
     "output_type": "stream",
     "text": [
      "Попытка 1 для слова \"administration\" не удалась. Ошибка: HTTPSConnectionPool(host='dictionary.cambridge.org', port=443): Max retries exceeded with url: /ru/%D1%81%D0%BB%D0%BE%D0%B2%D0%B0%D1%80%D1%8C/%D0%B0%D0%BD%D0%B3%D0%BB%D0%BE-%D1%80%D1%83%D1%81%D1%81%D0%BA%D0%B8%D0%B9/administration (Caused by ConnectTimeoutError(<urllib3.connection.HTTPSConnection object at 0x000001450D5CCF50>, 'Connection to dictionary.cambridge.org timed out. (connect timeout=10)'))\n"
     ]
    },
    {
     "name": "stderr",
     "output_type": "stream",
     "text": [
      "Парсинг слов:   3%|█▉                                                            | 544/17930 [01:39<1:08:48,  4.21it/s]"
     ]
    },
    {
     "name": "stdout",
     "output_type": "stream",
     "text": [
      "Попытка 1 для слова \"already\" не удалась. Ошибка: HTTPSConnectionPool(host='dictionary.cambridge.org', port=443): Max retries exceeded with url: /ru/%D1%81%D0%BB%D0%BE%D0%B2%D0%B0%D1%80%D1%8C/%D0%B0%D0%BD%D0%B3%D0%BB%D0%BE-%D1%80%D1%83%D1%81%D1%81%D0%BA%D0%B8%D0%B9/already (Caused by ConnectTimeoutError(<urllib3.connection.HTTPSConnection object at 0x000001450D709BD0>, 'Connection to dictionary.cambridge.org timed out. (connect timeout=10)'))\n"
     ]
    },
    {
     "name": "stderr",
     "output_type": "stream",
     "text": [
      "Парсинг слов:   4%|██▊                                                             | 803/17930 [02:26<48:46,  5.85it/s]"
     ]
    },
    {
     "name": "stdout",
     "output_type": "stream",
     "text": [
      "Попытка 1 для слова \"aroma\" не удалась. Ошибка: HTTPSConnectionPool(host='dictionary.cambridge.org', port=443): Max retries exceeded with url: /ru/%D1%81%D0%BB%D0%BE%D0%B2%D0%B0%D1%80%D1%8C/%D0%B0%D0%BD%D0%B3%D0%BB%D0%BE-%D1%80%D1%83%D1%81%D1%81%D0%BA%D0%B8%D0%B9/aroma (Caused by ConnectTimeoutError(<urllib3.connection.HTTPSConnection object at 0x000001450A7C7B10>, 'Connection to dictionary.cambridge.org timed out. (connect timeout=10)'))\n"
     ]
    },
    {
     "name": "stderr",
     "output_type": "stream",
     "text": [
      "Парсинг слов:   6%|███▋                                                           | 1034/17930 [03:09<53:09,  5.30it/s]"
     ]
    },
    {
     "name": "stdout",
     "output_type": "stream",
     "text": [
      "Попытка 1 для слова \"aviation\" не удалась. Ошибка: HTTPSConnectionPool(host='dictionary.cambridge.org', port=443): Max retries exceeded with url: /ru/%D1%81%D0%BB%D0%BE%D0%B2%D0%B0%D1%80%D1%8C/%D0%B0%D0%BD%D0%B3%D0%BB%D0%BE-%D1%80%D1%83%D1%81%D1%81%D0%BA%D0%B8%D0%B9/aviation (Caused by ConnectTimeoutError(<urllib3.connection.HTTPSConnection object at 0x000001450C85DFD0>, 'Connection to dictionary.cambridge.org timed out. (connect timeout=10)'))\n"
     ]
    },
    {
     "name": "stderr",
     "output_type": "stream",
     "text": [
      "Парсинг слов:   7%|████▋                                                          | 1318/17930 [03:58<45:25,  6.10it/s]"
     ]
    },
    {
     "name": "stdout",
     "output_type": "stream",
     "text": [
      "Попытка 1 для слова \"be out of your depth\" не удалась. Ошибка: HTTPSConnectionPool(host='dictionary.cambridge.org', port=443): Max retries exceeded with url: /ru/%D1%81%D0%BB%D0%BE%D0%B2%D0%B0%D1%80%D1%8C/%D0%B0%D0%BD%D0%B3%D0%BB%D0%BE-%D1%80%D1%83%D1%81%D1%81%D0%BA%D0%B8%D0%B9/be-out-of-your-depth (Caused by ConnectTimeoutError(<urllib3.connection.HTTPSConnection object at 0x000001450C6B7B90>, 'Connection to dictionary.cambridge.org timed out. (connect timeout=10)'))\n"
     ]
    },
    {
     "name": "stderr",
     "output_type": "stream",
     "text": [
      "Парсинг слов:   9%|█████▌                                                         | 1585/17930 [04:45<53:17,  5.11it/s]"
     ]
    },
    {
     "name": "stdout",
     "output_type": "stream",
     "text": [
      "Попытка 1 для слова \"birthday\" не удалась. Ошибка: HTTPSConnectionPool(host='dictionary.cambridge.org', port=443): Max retries exceeded with url: /ru/%D1%81%D0%BB%D0%BE%D0%B2%D0%B0%D1%80%D1%8C/%D0%B0%D0%BD%D0%B3%D0%BB%D0%BE-%D1%80%D1%83%D1%81%D1%81%D0%BA%D0%B8%D0%B9/birthday (Caused by ConnectTimeoutError(<urllib3.connection.HTTPSConnection object at 0x000001450D197590>, 'Connection to dictionary.cambridge.org timed out. (connect timeout=10)'))\n"
     ]
    },
    {
     "name": "stderr",
     "output_type": "stream",
     "text": [
      "Парсинг слов:  11%|███████▏                                                       | 2034/17930 [05:59<41:16,  6.42it/s]"
     ]
    },
    {
     "name": "stdout",
     "output_type": "stream",
     "text": [
      "Попытка 1 для слова \"bring sth out\" не удалась. Ошибка: HTTPSConnectionPool(host='dictionary.cambridge.org', port=443): Max retries exceeded with url: /ru/%D1%81%D0%BB%D0%BE%D0%B2%D0%B0%D1%80%D1%8C/%D0%B0%D0%BD%D0%B3%D0%BB%D0%BE-%D1%80%D1%83%D1%81%D1%81%D0%BA%D0%B8%D0%B9/bring-sth-out (Caused by ConnectTimeoutError(<urllib3.connection.HTTPSConnection object at 0x000001450AA634D0>, 'Connection to dictionary.cambridge.org timed out. (connect timeout=10)'))\n"
     ]
    },
    {
     "name": "stderr",
     "output_type": "stream",
     "text": [
      "Парсинг слов:  13%|████████▏                                                      | 2324/17930 [06:48<52:17,  4.97it/s]"
     ]
    },
    {
     "name": "stdout",
     "output_type": "stream",
     "text": [
      "Попытка 1 для слова \"canyon\" не удалась. Ошибка: HTTPSConnectionPool(host='dictionary.cambridge.org', port=443): Max retries exceeded with url: /ru/%D1%81%D0%BB%D0%BE%D0%B2%D0%B0%D1%80%D1%8C/%D0%B0%D0%BD%D0%B3%D0%BB%D0%BE-%D1%80%D1%83%D1%81%D1%81%D0%BA%D0%B8%D0%B9/canyon (Caused by ConnectTimeoutError(<urllib3.connection.HTTPSConnection object at 0x000001450A774750>, 'Connection to dictionary.cambridge.org timed out. (connect timeout=10)'))\n"
     ]
    },
    {
     "name": "stderr",
     "output_type": "stream",
     "text": [
      "Парсинг слов:  14%|████████▉                                                      | 2558/17930 [07:31<53:20,  4.80it/s]"
     ]
    },
    {
     "name": "stdout",
     "output_type": "stream",
     "text": [
      "Попытка 1 для слова \"center\" не удалась. Ошибка: HTTPSConnectionPool(host='dictionary.cambridge.org', port=443): Max retries exceeded with url: /ru/%D1%81%D0%BB%D0%BE%D0%B2%D0%B0%D1%80%D1%8C/%D0%B0%D0%BD%D0%B3%D0%BB%D0%BE-%D1%80%D1%83%D1%81%D1%81%D0%BA%D0%B8%D0%B9/center (Caused by ConnectTimeoutError(<urllib3.connection.HTTPSConnection object at 0x000001450C279610>, 'Connection to dictionary.cambridge.org timed out. (connect timeout=10)'))\n"
     ]
    },
    {
     "name": "stderr",
     "output_type": "stream",
     "text": [
      "Парсинг слов:  16%|█████████▌                                                   | 2820/17930 [08:17<1:07:02,  3.76it/s]"
     ]
    },
    {
     "name": "stdout",
     "output_type": "stream",
     "text": [
      "Попытка 1 для слова \"Christmas Day\" не удалась. Ошибка: HTTPSConnectionPool(host='dictionary.cambridge.org', port=443): Max retries exceeded with url: /ru/%D1%81%D0%BB%D0%BE%D0%B2%D0%B0%D1%80%D1%8C/%D0%B0%D0%BD%D0%B3%D0%BB%D0%BE-%D1%80%D1%83%D1%81%D1%81%D0%BA%D0%B8%D0%B9/Christmas-Day (Caused by ConnectTimeoutError(<urllib3.connection.HTTPSConnection object at 0x000001450BCD4D90>, 'Connection to dictionary.cambridge.org timed out. (connect timeout=10)'))\n"
     ]
    },
    {
     "name": "stderr",
     "output_type": "stream",
     "text": [
      "Парсинг слов:  17%|██████████▎                                                  | 3038/17930 [09:00<1:12:08,  3.44it/s]"
     ]
    },
    {
     "name": "stdout",
     "output_type": "stream",
     "text": [
      "Попытка 1 для слова \"coalition\" не удалась. Ошибка: HTTPSConnectionPool(host='dictionary.cambridge.org', port=443): Max retries exceeded with url: /ru/%D1%81%D0%BB%D0%BE%D0%B2%D0%B0%D1%80%D1%8C/%D0%B0%D0%BD%D0%B3%D0%BB%D0%BE-%D1%80%D1%83%D1%81%D1%81%D0%BA%D0%B8%D0%B9/coalition (Caused by ConnectTimeoutError(<urllib3.connection.HTTPSConnection object at 0x000001450CA38CD0>, 'Connection to dictionary.cambridge.org timed out. (connect timeout=10)'))\n"
     ]
    },
    {
     "name": "stderr",
     "output_type": "stream",
     "text": [
      "Парсинг слов:  18%|███████████                                                  | 3267/17930 [09:43<1:02:55,  3.88it/s]"
     ]
    },
    {
     "name": "stdout",
     "output_type": "stream",
     "text": [
      "Попытка 1 для слова \"communicate\" не удалась. Ошибка: HTTPSConnectionPool(host='dictionary.cambridge.org', port=443): Max retries exceeded with url: /ru/%D1%81%D0%BB%D0%BE%D0%B2%D0%B0%D1%80%D1%8C/%D0%B0%D0%BD%D0%B3%D0%BB%D0%BE-%D1%80%D1%83%D1%81%D1%81%D0%BA%D0%B8%D0%B9/communicate (Caused by ConnectTimeoutError(<urllib3.connection.HTTPSConnection object at 0x000001450CB87290>, 'Connection to dictionary.cambridge.org timed out. (connect timeout=10)'))\n"
     ]
    },
    {
     "name": "stderr",
     "output_type": "stream",
     "text": [
      "Парсинг слов:  20%|████████████▎                                                  | 3517/17930 [10:27<45:08,  5.32it/s]"
     ]
    },
    {
     "name": "stdout",
     "output_type": "stream",
     "text": [
      "Попытка 1 для слова \"consignment\" не удалась. Ошибка: HTTPSConnectionPool(host='dictionary.cambridge.org', port=443): Max retries exceeded with url: /ru/%D1%81%D0%BB%D0%BE%D0%B2%D0%B0%D1%80%D1%8C/%D0%B0%D0%BD%D0%B3%D0%BB%D0%BE-%D1%80%D1%83%D1%81%D1%81%D0%BA%D0%B8%D0%B9/consignment (Caused by ConnectTimeoutError(<urllib3.connection.HTTPSConnection object at 0x000001450C883790>, 'Connection to dictionary.cambridge.org timed out. (connect timeout=10)'))\n"
     ]
    },
    {
     "name": "stderr",
     "output_type": "stream",
     "text": [
      "Парсинг слов:  21%|█████████████▎                                                 | 3784/17930 [11:13<33:02,  7.14it/s]"
     ]
    },
    {
     "name": "stdout",
     "output_type": "stream",
     "text": [
      "Попытка 1 для слова \"county\" не удалась. Ошибка: HTTPSConnectionPool(host='dictionary.cambridge.org', port=443): Max retries exceeded with url: /ru/%D1%81%D0%BB%D0%BE%D0%B2%D0%B0%D1%80%D1%8C/%D0%B0%D0%BD%D0%B3%D0%BB%D0%BE-%D1%80%D1%83%D1%81%D1%81%D0%BA%D0%B8%D0%B9/county (Caused by ConnectTimeoutError(<urllib3.connection.HTTPSConnection object at 0x00000145040826D0>, 'Connection to dictionary.cambridge.org timed out. (connect timeout=10)'))\n"
     ]
    },
    {
     "name": "stderr",
     "output_type": "stream",
     "text": [
      "Парсинг слов:  23%|██████████████▎                                                | 4076/17930 [12:02<45:05,  5.12it/s]"
     ]
    },
    {
     "name": "stdout",
     "output_type": "stream",
     "text": [
      "Попытка 1 для слова \"customary\" не удалась. Ошибка: HTTPSConnectionPool(host='dictionary.cambridge.org', port=443): Max retries exceeded with url: /ru/%D1%81%D0%BB%D0%BE%D0%B2%D0%B0%D1%80%D1%8C/%D0%B0%D0%BD%D0%B3%D0%BB%D0%BE-%D1%80%D1%83%D1%81%D1%81%D0%BA%D0%B8%D0%B9/customary (Caused by ConnectTimeoutError(<urllib3.connection.HTTPSConnection object at 0x000001450BF6BA90>, 'Connection to dictionary.cambridge.org timed out. (connect timeout=10)'))\n"
     ]
    },
    {
     "name": "stderr",
     "output_type": "stream",
     "text": [
      "Парсинг слов:  24%|███████████████▏                                               | 4319/17930 [12:49<43:57,  5.16it/s]"
     ]
    },
    {
     "name": "stdout",
     "output_type": "stream",
     "text": [
      "Попытка 1 для слова \"delve\" не удалась. Ошибка: HTTPSConnectionPool(host='dictionary.cambridge.org', port=443): Max retries exceeded with url: /ru/%D1%81%D0%BB%D0%BE%D0%B2%D0%B0%D1%80%D1%8C/%D0%B0%D0%BD%D0%B3%D0%BB%D0%BE-%D1%80%D1%83%D1%81%D1%81%D0%BA%D0%B8%D0%B9/delve (Caused by ConnectTimeoutError(<urllib3.connection.HTTPSConnection object at 0x000001450C127210>, 'Connection to dictionary.cambridge.org timed out. (connect timeout=10)'))\n"
     ]
    },
    {
     "name": "stderr",
     "output_type": "stream",
     "text": [
      "Парсинг слов:  26%|████████████████▏                                              | 4591/17930 [13:39<34:57,  6.36it/s]"
     ]
    },
    {
     "name": "stdout",
     "output_type": "stream",
     "text": [
      "Попытка 1 для слова \"dinghy\" не удалась. Ошибка: HTTPSConnectionPool(host='dictionary.cambridge.org', port=443): Max retries exceeded with url: /ru/%D1%81%D0%BB%D0%BE%D0%B2%D0%B0%D1%80%D1%8C/%D0%B0%D0%BD%D0%B3%D0%BB%D0%BE-%D1%80%D1%83%D1%81%D1%81%D0%BA%D0%B8%D0%B9/dinghy (Caused by ConnectTimeoutError(<urllib3.connection.HTTPSConnection object at 0x000001450BCBFA90>, 'Connection to dictionary.cambridge.org timed out. (connect timeout=10)'))\n"
     ]
    },
    {
     "name": "stderr",
     "output_type": "stream",
     "text": [
      "Парсинг слов:  36%|██████████████████████▊                                        | 6481/17930 [19:24<34:05,  5.60it/s]"
     ]
    },
    {
     "name": "stdout",
     "output_type": "stream",
     "text": [
      "Попытка 1 для слова \"fork\" не удалась. Ошибка: HTTPSConnectionPool(host='dictionary.cambridge.org', port=443): Max retries exceeded with url: /ru/%D1%81%D0%BB%D0%BE%D0%B2%D0%B0%D1%80%D1%8C/%D0%B0%D0%BD%D0%B3%D0%BB%D0%BE-%D1%80%D1%83%D1%81%D1%81%D0%BA%D0%B8%D0%B9/fork (Caused by ConnectTimeoutError(<urllib3.connection.HTTPSConnection object at 0x000001450C6841D0>, 'Connection to dictionary.cambridge.org timed out. (connect timeout=10)'))\n"
     ]
    },
    {
     "name": "stderr",
     "output_type": "stream",
     "text": [
      "Парсинг слов:  38%|███████████████████████▋                                       | 6746/17930 [20:10<45:50,  4.07it/s]"
     ]
    },
    {
     "name": "stdout",
     "output_type": "stream",
     "text": [
      "Попытка 1 для слова \"futile\" не удалась. Ошибка: HTTPSConnectionPool(host='dictionary.cambridge.org', port=443): Max retries exceeded with url: /ru/%D1%81%D0%BB%D0%BE%D0%B2%D0%B0%D1%80%D1%8C/%D0%B0%D0%BD%D0%B3%D0%BB%D0%BE-%D1%80%D1%83%D1%81%D1%81%D0%BA%D0%B8%D0%B9/futile (Caused by ConnectTimeoutError(<urllib3.connection.HTTPSConnection object at 0x0000014503534390>, 'Connection to dictionary.cambridge.org timed out. (connect timeout=10)'))\n"
     ]
    },
    {
     "name": "stderr",
     "output_type": "stream",
     "text": [
      "Парсинг слов:  39%|████████████████████████▋                                      | 7027/17930 [21:00<39:21,  4.62it/s]"
     ]
    },
    {
     "name": "stdout",
     "output_type": "stream",
     "text": [
      "Попытка 1 для слова \"give sb the kiss of life\" не удалась. Ошибка: HTTPSConnectionPool(host='dictionary.cambridge.org', port=443): Max retries exceeded with url: /ru/%D1%81%D0%BB%D0%BE%D0%B2%D0%B0%D1%80%D1%8C/%D0%B0%D0%BD%D0%B3%D0%BB%D0%BE-%D1%80%D1%83%D1%81%D1%81%D0%BA%D0%B8%D0%B9/give-sb-the-kiss-of-life (Caused by ConnectTimeoutError(<urllib3.connection.HTTPSConnection object at 0x000001450DF27B10>, 'Connection to dictionary.cambridge.org timed out. (connect timeout=10)'))\n"
     ]
    },
    {
     "name": "stderr",
     "output_type": "stream",
     "text": [
      "Парсинг слов:  40%|█████████████████████████▍                                     | 7248/17930 [21:42<28:43,  6.20it/s]"
     ]
    },
    {
     "name": "stdout",
     "output_type": "stream",
     "text": [
      "Попытка 1 для слова \"GP\" не удалась. Ошибка: HTTPSConnectionPool(host='dictionary.cambridge.org', port=443): Max retries exceeded with url: /ru/%D1%81%D0%BB%D0%BE%D0%B2%D0%B0%D1%80%D1%8C/%D0%B0%D0%BD%D0%B3%D0%BB%D0%BE-%D1%80%D1%83%D1%81%D1%81%D0%BA%D0%B8%D0%B9/GP (Caused by ConnectTimeoutError(<urllib3.connection.HTTPSConnection object at 0x0000014507CC6D50>, 'Connection to dictionary.cambridge.org timed out. (connect timeout=10)'))\n"
     ]
    },
    {
     "name": "stderr",
     "output_type": "stream",
     "text": [
      "Парсинг слов:  45%|████████████████████████████▏                                  | 8009/17930 [23:58<30:46,  5.37it/s]"
     ]
    },
    {
     "name": "stdout",
     "output_type": "stream",
     "text": [
      "Попытка 1 для слова \"honorary\" не удалась. Ошибка: HTTPSConnectionPool(host='dictionary.cambridge.org', port=443): Max retries exceeded with url: /ru/%D1%81%D0%BB%D0%BE%D0%B2%D0%B0%D1%80%D1%8C/%D0%B0%D0%BD%D0%B3%D0%BB%D0%BE-%D1%80%D1%83%D1%81%D1%81%D0%BA%D0%B8%D0%B9/honorary (Caused by ConnectTimeoutError(<urllib3.connection.HTTPSConnection object at 0x000001450DC68150>, 'Connection to dictionary.cambridge.org timed out. (connect timeout=10)'))\n"
     ]
    },
    {
     "name": "stderr",
     "output_type": "stream",
     "text": [
      "Парсинг слов:  46%|████████████████████████████▉                                  | 8247/17930 [24:45<32:25,  4.98it/s]"
     ]
    },
    {
     "name": "stdout",
     "output_type": "stream",
     "text": [
      "Попытка 1 для слова \"imbalance\" не удалась. Ошибка: HTTPSConnectionPool(host='dictionary.cambridge.org', port=443): Max retries exceeded with url: /ru/%D1%81%D0%BB%D0%BE%D0%B2%D0%B0%D1%80%D1%8C/%D0%B0%D0%BD%D0%B3%D0%BB%D0%BE-%D1%80%D1%83%D1%81%D1%81%D0%BA%D0%B8%D0%B9/imbalance (Caused by ConnectTimeoutError(<urllib3.connection.HTTPSConnection object at 0x000001450DEBA410>, 'Connection to dictionary.cambridge.org timed out. (connect timeout=10)'))\n"
     ]
    },
    {
     "name": "stderr",
     "output_type": "stream",
     "text": [
      "Парсинг слов:  47%|█████████████████████████████▊                                 | 8494/17930 [25:27<27:32,  5.71it/s]"
     ]
    },
    {
     "name": "stdout",
     "output_type": "stream",
     "text": [
      "Попытка 1 для слова \"indict\" не удалась. Ошибка: HTTPSConnectionPool(host='dictionary.cambridge.org', port=443): Max retries exceeded with url: /ru/%D1%81%D0%BB%D0%BE%D0%B2%D0%B0%D1%80%D1%8C/%D0%B0%D0%BD%D0%B3%D0%BB%D0%BE-%D1%80%D1%83%D1%81%D1%81%D0%BA%D0%B8%D0%B9/indict (Caused by ConnectTimeoutError(<urllib3.connection.HTTPSConnection object at 0x000001450D99A8D0>, 'Connection to dictionary.cambridge.org timed out. (connect timeout=10)'))\n"
     ]
    },
    {
     "name": "stderr",
     "output_type": "stream",
     "text": [
      "Парсинг слов:  49%|██████████████████████████████▋                                | 8751/17930 [26:14<33:23,  4.58it/s]"
     ]
    },
    {
     "name": "stdout",
     "output_type": "stream",
     "text": [
      "Попытка 1 для слова \"insurrection\" не удалась. Ошибка: HTTPSConnectionPool(host='dictionary.cambridge.org', port=443): Max retries exceeded with url: /ru/%D1%81%D0%BB%D0%BE%D0%B2%D0%B0%D1%80%D1%8C/%D0%B0%D0%BD%D0%B3%D0%BB%D0%BE-%D1%80%D1%83%D1%81%D1%81%D0%BA%D0%B8%D0%B9/insurrection (Caused by ConnectTimeoutError(<urllib3.connection.HTTPSConnection object at 0x000001450D3BF390>, 'Connection to dictionary.cambridge.org timed out. (connect timeout=10)'))\n"
     ]
    },
    {
     "name": "stderr",
     "output_type": "stream",
     "text": [
      "Парсинг слов:  50%|███████████████████████████████▋                               | 9012/17930 [27:03<23:56,  6.21it/s]"
     ]
    },
    {
     "name": "stdout",
     "output_type": "stream",
     "text": [
      "Попытка 1 для слова \"joypad\" не удалась. Ошибка: HTTPSConnectionPool(host='dictionary.cambridge.org', port=443): Max retries exceeded with url: /ru/%D1%81%D0%BB%D0%BE%D0%B2%D0%B0%D1%80%D1%8C/%D0%B0%D0%BD%D0%B3%D0%BB%D0%BE-%D1%80%D1%83%D1%81%D1%81%D0%BA%D0%B8%D0%B9/joypad (Caused by ConnectTimeoutError(<urllib3.connection.HTTPSConnection object at 0x000001450D722350>, 'Connection to dictionary.cambridge.org timed out. (connect timeout=10)'))\n"
     ]
    },
    {
     "name": "stderr",
     "output_type": "stream",
     "text": [
      "Парсинг слов:  52%|████████████████████████████████▌                              | 9283/17930 [27:53<25:29,  5.65it/s]"
     ]
    },
    {
     "name": "stdout",
     "output_type": "stream",
     "text": [
      "Попытка 1 для слова \"lately\" не удалась. Ошибка: HTTPSConnectionPool(host='dictionary.cambridge.org', port=443): Max retries exceeded with url: /ru/%D1%81%D0%BB%D0%BE%D0%B2%D0%B0%D1%80%D1%8C/%D0%B0%D0%BD%D0%B3%D0%BB%D0%BE-%D1%80%D1%83%D1%81%D1%81%D0%BA%D0%B8%D0%B9/lately (Caused by ConnectTimeoutError(<urllib3.connection.HTTPSConnection object at 0x000001450CE9D810>, 'Connection to dictionary.cambridge.org timed out. (connect timeout=10)'))\n"
     ]
    },
    {
     "name": "stderr",
     "output_type": "stream",
     "text": [
      "Парсинг слов:  53%|█████████████████████████████████▍                             | 9527/17930 [28:38<23:08,  6.05it/s]"
     ]
    },
    {
     "name": "stdout",
     "output_type": "stream",
     "text": [
      "Попытка 1 для слова \"loan\" не удалась. Ошибка: HTTPSConnectionPool(host='dictionary.cambridge.org', port=443): Max retries exceeded with url: /ru/%D1%81%D0%BB%D0%BE%D0%B2%D0%B0%D1%80%D1%8C/%D0%B0%D0%BD%D0%B3%D0%BB%D0%BE-%D1%80%D1%83%D1%81%D1%81%D0%BA%D0%B8%D0%B9/loan (Caused by ConnectTimeoutError(<urllib3.connection.HTTPSConnection object at 0x000001450D3A2ED0>, 'Connection to dictionary.cambridge.org timed out. (connect timeout=10)'))\n"
     ]
    },
    {
     "name": "stderr",
     "output_type": "stream",
     "text": [
      "Парсинг слов:  54%|██████████████████████████████████▎                            | 9761/17930 [29:21<33:54,  4.01it/s]"
     ]
    },
    {
     "name": "stdout",
     "output_type": "stream",
     "text": [
      "Попытка 1 для слова \"mainstream\" не удалась. Ошибка: HTTPSConnectionPool(host='dictionary.cambridge.org', port=443): Max retries exceeded with url: /ru/%D1%81%D0%BB%D0%BE%D0%B2%D0%B0%D1%80%D1%8C/%D0%B0%D0%BD%D0%B3%D0%BB%D0%BE-%D1%80%D1%83%D1%81%D1%81%D0%BA%D0%B8%D0%B9/mainstream (Caused by ConnectTimeoutError(<urllib3.connection.HTTPSConnection object at 0x000001450D70DFD0>, 'Connection to dictionary.cambridge.org timed out. (connect timeout=10)'))\n"
     ]
    },
    {
     "name": "stderr",
     "output_type": "stream",
     "text": [
      "Парсинг слов:  56%|███████████████████████████████████                            | 9995/17930 [30:03<26:20,  5.02it/s]"
     ]
    },
    {
     "name": "stdout",
     "output_type": "stream",
     "text": [
      "Попытка 1 для слова \"means\" не удалась. Ошибка: HTTPSConnectionPool(host='dictionary.cambridge.org', port=443): Max retries exceeded with url: /ru/%D1%81%D0%BB%D0%BE%D0%B2%D0%B0%D1%80%D1%8C/%D0%B0%D0%BD%D0%B3%D0%BB%D0%BE-%D1%80%D1%83%D1%81%D1%81%D0%BA%D0%B8%D0%B9/means (Caused by ConnectTimeoutError(<urllib3.connection.HTTPSConnection object at 0x000001450C416150>, 'Connection to dictionary.cambridge.org timed out. (connect timeout=10)'))\n"
     ]
    },
    {
     "name": "stderr",
     "output_type": "stream",
     "text": [
      "Парсинг слов:  57%|███████████████████████████████████▍                          | 10250/17930 [30:49<21:38,  5.92it/s]"
     ]
    },
    {
     "name": "stdout",
     "output_type": "stream",
     "text": [
      "Попытка 1 для слова \"miss sb sth out\" не удалась. Ошибка: HTTPSConnectionPool(host='dictionary.cambridge.org', port=443): Max retries exceeded with url: /ru/%D1%81%D0%BB%D0%BE%D0%B2%D0%B0%D1%80%D1%8C/%D0%B0%D0%BD%D0%B3%D0%BB%D0%BE-%D1%80%D1%83%D1%81%D1%81%D0%BA%D0%B8%D0%B9/miss-sb-sth-out (Caused by ConnectTimeoutError(<urllib3.connection.HTTPSConnection object at 0x000001450D1E6850>, 'Connection to dictionary.cambridge.org timed out. (connect timeout=10)'))\n"
     ]
    },
    {
     "name": "stderr",
     "output_type": "stream",
     "text": [
      "Парсинг слов:  58%|████████████████████████████████████▏                         | 10481/17930 [31:31<23:41,  5.24it/s]"
     ]
    },
    {
     "name": "stdout",
     "output_type": "stream",
     "text": [
      "Попытка 1 для слова \"muffle\" не удалась. Ошибка: HTTPSConnectionPool(host='dictionary.cambridge.org', port=443): Max retries exceeded with url: /ru/%D1%81%D0%BB%D0%BE%D0%B2%D0%B0%D1%80%D1%8C/%D0%B0%D0%BD%D0%B3%D0%BB%D0%BE-%D1%80%D1%83%D1%81%D1%81%D0%BA%D0%B8%D0%B9/muffle (Caused by ConnectTimeoutError(<urllib3.connection.HTTPSConnection object at 0x000001450E7291D0>, 'Connection to dictionary.cambridge.org timed out. (connect timeout=10)'))\n"
     ]
    },
    {
     "name": "stderr",
     "output_type": "stream",
     "text": [
      "Парсинг слов:  60%|█████████████████████████████████████                         | 10709/17930 [32:14<20:08,  5.98it/s]"
     ]
    },
    {
     "name": "stdout",
     "output_type": "stream",
     "text": [
      "Попытка 1 для слова \"nick\" не удалась. Ошибка: HTTPSConnectionPool(host='dictionary.cambridge.org', port=443): Max retries exceeded with url: /ru/%D1%81%D0%BB%D0%BE%D0%B2%D0%B0%D1%80%D1%8C/%D0%B0%D0%BD%D0%B3%D0%BB%D0%BE-%D1%80%D1%83%D1%81%D1%81%D0%BA%D0%B8%D0%B9/nick (Caused by ConnectTimeoutError(<urllib3.connection.HTTPSConnection object at 0x000001450BCBF810>, 'Connection to dictionary.cambridge.org timed out. (connect timeout=10)'))\n"
     ]
    },
    {
     "name": "stderr",
     "output_type": "stream",
     "text": [
      "Парсинг слов:  61%|█████████████████████████████████████▉                        | 10973/17930 [33:01<20:50,  5.57it/s]"
     ]
    },
    {
     "name": "stdout",
     "output_type": "stream",
     "text": [
      "Попытка 1 для слова \"ointment\" не удалась. Ошибка: HTTPSConnectionPool(host='dictionary.cambridge.org', port=443): Max retries exceeded with url: /ru/%D1%81%D0%BB%D0%BE%D0%B2%D0%B0%D1%80%D1%8C/%D0%B0%D0%BD%D0%B3%D0%BB%D0%BE-%D1%80%D1%83%D1%81%D1%81%D0%BA%D0%B8%D0%B9/ointment (Caused by ConnectTimeoutError(<urllib3.connection.HTTPSConnection object at 0x000001450D000CD0>, 'Connection to dictionary.cambridge.org timed out. (connect timeout=10)'))\n"
     ]
    },
    {
     "name": "stderr",
     "output_type": "stream",
     "text": [
      "Парсинг слов:  62%|██████████████████████████████████████▋                       | 11204/17930 [33:46<22:12,  5.05it/s]"
     ]
    },
    {
     "name": "stdout",
     "output_type": "stream",
     "text": [
      "Попытка 1 для слова \"outrun\" не удалась. Ошибка: HTTPSConnectionPool(host='dictionary.cambridge.org', port=443): Max retries exceeded with url: /ru/%D1%81%D0%BB%D0%BE%D0%B2%D0%B0%D1%80%D1%8C/%D0%B0%D0%BD%D0%B3%D0%BB%D0%BE-%D1%80%D1%83%D1%81%D1%81%D0%BA%D0%B8%D0%B9/outrun (Caused by ConnectTimeoutError(<urllib3.connection.HTTPSConnection object at 0x000001450CBB1B10>, 'Connection to dictionary.cambridge.org timed out. (connect timeout=10)'))\n"
     ]
    },
    {
     "name": "stderr",
     "output_type": "stream",
     "text": [
      "Парсинг слов:  64%|███████████████████████████████████████▌                      | 11446/17930 [34:36<26:10,  4.13it/s]"
     ]
    },
    {
     "name": "stdout",
     "output_type": "stream",
     "text": [
      "Попытка 1 для слова \"passion\" не удалась. Ошибка: HTTPSConnectionPool(host='dictionary.cambridge.org', port=443): Max retries exceeded with url: /ru/%D1%81%D0%BB%D0%BE%D0%B2%D0%B0%D1%80%D1%8C/%D0%B0%D0%BD%D0%B3%D0%BB%D0%BE-%D1%80%D1%83%D1%81%D1%81%D0%BA%D0%B8%D0%B9/passion (Caused by ConnectTimeoutError(<urllib3.connection.HTTPSConnection object at 0x000001450BF8F9D0>, 'Connection to dictionary.cambridge.org timed out. (connect timeout=10)'))\n"
     ]
    },
    {
     "name": "stderr",
     "output_type": "stream",
     "text": [
      "Парсинг слов:  65%|████████████████████████████████████████▌                     | 11719/17930 [35:25<17:58,  5.76it/s]"
     ]
    },
    {
     "name": "stdout",
     "output_type": "stream",
     "text": [
      "Попытка 1 для слова \"philanthropist\" не удалась. Ошибка: HTTPSConnectionPool(host='dictionary.cambridge.org', port=443): Max retries exceeded with url: /ru/%D1%81%D0%BB%D0%BE%D0%B2%D0%B0%D1%80%D1%8C/%D0%B0%D0%BD%D0%B3%D0%BB%D0%BE-%D1%80%D1%83%D1%81%D1%81%D0%BA%D0%B8%D0%B9/philanthropist (Caused by ConnectTimeoutError(<urllib3.connection.HTTPSConnection object at 0x000001450C0A1E90>, 'Connection to dictionary.cambridge.org timed out. (connect timeout=10)'))\n"
     ]
    },
    {
     "name": "stderr",
     "output_type": "stream",
     "text": [
      "Парсинг слов:  67%|█████████████████████████████████████████▎                    | 11959/17930 [36:08<18:31,  5.37it/s]"
     ]
    },
    {
     "name": "stdout",
     "output_type": "stream",
     "text": [
      "Попытка 1 для слова \"pleased\" не удалась. Ошибка: HTTPSConnectionPool(host='dictionary.cambridge.org', port=443): Max retries exceeded with url: /ru/%D1%81%D0%BB%D0%BE%D0%B2%D0%B0%D1%80%D1%8C/%D0%B0%D0%BD%D0%B3%D0%BB%D0%BE-%D1%80%D1%83%D1%81%D1%81%D0%BA%D0%B8%D0%B9/pleased (Caused by ConnectTimeoutError(<urllib3.connection.HTTPSConnection object at 0x000001450E68D350>, 'Connection to dictionary.cambridge.org timed out. (connect timeout=10)'))\n"
     ]
    },
    {
     "name": "stderr",
     "output_type": "stream",
     "text": [
      "Парсинг слов:  68%|██████████████████████████████████████████▏                   | 12186/17930 [36:50<14:37,  6.54it/s]"
     ]
    },
    {
     "name": "stdout",
     "output_type": "stream",
     "text": [
      "Попытка 1 для слова \"prat\" не удалась. Ошибка: HTTPSConnectionPool(host='dictionary.cambridge.org', port=443): Max retries exceeded with url: /ru/%D1%81%D0%BB%D0%BE%D0%B2%D0%B0%D1%80%D1%8C/%D0%B0%D0%BD%D0%B3%D0%BB%D0%BE-%D1%80%D1%83%D1%81%D1%81%D0%BA%D0%B8%D0%B9/prat (Caused by ConnectTimeoutError(<urllib3.connection.HTTPSConnection object at 0x000001450C28FF50>, 'Connection to dictionary.cambridge.org timed out. (connect timeout=10)'))\n"
     ]
    },
    {
     "name": "stderr",
     "output_type": "stream",
     "text": [
      "Парсинг слов:  69%|███████████████████████████████████████████                   | 12456/17930 [37:39<15:21,  5.94it/s]"
     ]
    },
    {
     "name": "stdout",
     "output_type": "stream",
     "text": [
      "Попытка 1 для слова \"prolonged\" не удалась. Ошибка: HTTPSConnectionPool(host='dictionary.cambridge.org', port=443): Max retries exceeded with url: /ru/%D1%81%D0%BB%D0%BE%D0%B2%D0%B0%D1%80%D1%8C/%D0%B0%D0%BD%D0%B3%D0%BB%D0%BE-%D1%80%D1%83%D1%81%D1%81%D0%BA%D0%B8%D0%B9/prolonged (Caused by ConnectTimeoutError(<urllib3.connection.HTTPSConnection object at 0x000001450B9F21D0>, 'Connection to dictionary.cambridge.org timed out. (connect timeout=10)'))\n"
     ]
    },
    {
     "name": "stderr",
     "output_type": "stream",
     "text": [
      "Парсинг слов:  71%|███████████████████████████████████████████▉                  | 12704/17930 [38:24<16:09,  5.39it/s]"
     ]
    },
    {
     "name": "stdout",
     "output_type": "stream",
     "text": [
      "Попытка 1 для слова \"put sb down\" не удалась. Ошибка: HTTPSConnectionPool(host='dictionary.cambridge.org', port=443): Max retries exceeded with url: /ru/%D1%81%D0%BB%D0%BE%D0%B2%D0%B0%D1%80%D1%8C/%D0%B0%D0%BD%D0%B3%D0%BB%D0%BE-%D1%80%D1%83%D1%81%D1%81%D0%BA%D0%B8%D0%B9/put-sb-down (Caused by ConnectTimeoutError(<urllib3.connection.HTTPSConnection object at 0x000001450BEE4D90>, 'Connection to dictionary.cambridge.org timed out. (connect timeout=10)'))\n"
     ]
    },
    {
     "name": "stderr",
     "output_type": "stream",
     "text": [
      "Парсинг слов:  72%|████████████████████████████████████████████▊                 | 12969/17930 [39:12<14:35,  5.67it/s]"
     ]
    },
    {
     "name": "stdout",
     "output_type": "stream",
     "text": [
      "Попытка 1 для слова \"recreate\" не удалась. Ошибка: HTTPSConnectionPool(host='dictionary.cambridge.org', port=443): Max retries exceeded with url: /ru/%D1%81%D0%BB%D0%BE%D0%B2%D0%B0%D1%80%D1%8C/%D0%B0%D0%BD%D0%B3%D0%BB%D0%BE-%D1%80%D1%83%D1%81%D1%81%D0%BA%D0%B8%D0%B9/recreate (Caused by ConnectTimeoutError(<urllib3.connection.HTTPSConnection object at 0x000001450CBAB7D0>, 'Connection to dictionary.cambridge.org timed out. (connect timeout=10)'))\n"
     ]
    },
    {
     "name": "stderr",
     "output_type": "stream",
     "text": [
      "Парсинг слов:  74%|█████████████████████████████████████████████▋                | 13227/17930 [39:59<13:47,  5.68it/s]"
     ]
    },
    {
     "name": "stdout",
     "output_type": "stream",
     "text": [
      "Попытка 1 для слова \"representation\" не удалась. Ошибка: HTTPSConnectionPool(host='dictionary.cambridge.org', port=443): Max retries exceeded with url: /ru/%D1%81%D0%BB%D0%BE%D0%B2%D0%B0%D1%80%D1%8C/%D0%B0%D0%BD%D0%B3%D0%BB%D0%BE-%D1%80%D1%83%D1%81%D1%81%D0%BA%D0%B8%D0%B9/representation (Caused by ConnectTimeoutError(<urllib3.connection.HTTPSConnection object at 0x000001450ACACD90>, 'Connection to dictionary.cambridge.org timed out. (connect timeout=10)'))\n"
     ]
    },
    {
     "name": "stderr",
     "output_type": "stream",
     "text": [
      "Парсинг слов:  75%|██████████████████████████████████████████████▌               | 13473/17930 [40:44<11:12,  6.63it/s]"
     ]
    },
    {
     "name": "stdout",
     "output_type": "stream",
     "text": [
      "Попытка 1 для слова \"ring a bell\" не удалась. Ошибка: HTTPSConnectionPool(host='dictionary.cambridge.org', port=443): Max retries exceeded with url: /ru/%D1%81%D0%BB%D0%BE%D0%B2%D0%B0%D1%80%D1%8C/%D0%B0%D0%BD%D0%B3%D0%BB%D0%BE-%D1%80%D1%83%D1%81%D1%81%D0%BA%D0%B8%D0%B9/ring-a-bell (Caused by ConnectTimeoutError(<urllib3.connection.HTTPSConnection object at 0x000001450BAD4250>, 'Connection to dictionary.cambridge.org timed out. (connect timeout=10)'))\n"
     ]
    },
    {
     "name": "stderr",
     "output_type": "stream",
     "text": [
      "Парсинг слов:  77%|███████████████████████████████████████████████▍              | 13717/17930 [41:29<13:14,  5.30it/s]"
     ]
    },
    {
     "name": "stdout",
     "output_type": "stream",
     "text": [
      "Попытка 1 для слова \"salient\" не удалась. Ошибка: HTTPSConnectionPool(host='dictionary.cambridge.org', port=443): Max retries exceeded with url: /ru/%D1%81%D0%BB%D0%BE%D0%B2%D0%B0%D1%80%D1%8C/%D0%B0%D0%BD%D0%B3%D0%BB%D0%BE-%D1%80%D1%83%D1%81%D1%81%D0%BA%D0%B8%D0%B9/salient (Caused by ConnectTimeoutError(<urllib3.connection.HTTPSConnection object at 0x000001450DF25B90>, 'Connection to dictionary.cambridge.org timed out. (connect timeout=10)'))\n"
     ]
    },
    {
     "name": "stderr",
     "output_type": "stream",
     "text": [
      "Парсинг слов:  78%|████████████████████████████████████████████████▎             | 13972/17930 [42:13<16:36,  3.97it/s]"
     ]
    },
    {
     "name": "stdout",
     "output_type": "stream",
     "text": [
      "Попытка 1 для слова \"sea shell\" не удалась. Ошибка: HTTPSConnectionPool(host='dictionary.cambridge.org', port=443): Max retries exceeded with url: /ru/%D1%81%D0%BB%D0%BE%D0%B2%D0%B0%D1%80%D1%8C/%D0%B0%D0%BD%D0%B3%D0%BB%D0%BE-%D1%80%D1%83%D1%81%D1%81%D0%BA%D0%B8%D0%B9/sea-shell (Caused by ConnectTimeoutError(<urllib3.connection.HTTPSConnection object at 0x000001450B901410>, 'Connection to dictionary.cambridge.org timed out. (connect timeout=10)'))\n"
     ]
    },
    {
     "name": "stderr",
     "output_type": "stream",
     "text": [
      "Парсинг слов:  79%|█████████████████████████████████████████████████▏            | 14234/17930 [43:02<10:21,  5.95it/s]"
     ]
    },
    {
     "name": "stdout",
     "output_type": "stream",
     "text": [
      "Попытка 1 для слова \"seventh\" не удалась. Ошибка: HTTPSConnectionPool(host='dictionary.cambridge.org', port=443): Max retries exceeded with url: /ru/%D1%81%D0%BB%D0%BE%D0%B2%D0%B0%D1%80%D1%8C/%D0%B0%D0%BD%D0%B3%D0%BB%D0%BE-%D1%80%D1%83%D1%81%D1%81%D0%BA%D0%B8%D0%B9/seventh (Caused by ConnectTimeoutError(<urllib3.connection.HTTPSConnection object at 0x000001450C54F450>, 'Connection to dictionary.cambridge.org timed out. (connect timeout=10)'))\n"
     ]
    },
    {
     "name": "stderr",
     "output_type": "stream",
     "text": [
      "Парсинг слов:  81%|█████████████████████████████████████████████████▉            | 14458/17930 [43:46<11:39,  4.97it/s]"
     ]
    },
    {
     "name": "stdout",
     "output_type": "stream",
     "text": [
      "Попытка 1 для слова \"shutter\" не удалась. Ошибка: HTTPSConnectionPool(host='dictionary.cambridge.org', port=443): Max retries exceeded with url: /ru/%D1%81%D0%BB%D0%BE%D0%B2%D0%B0%D1%80%D1%8C/%D0%B0%D0%BD%D0%B3%D0%BB%D0%BE-%D1%80%D1%83%D1%81%D1%81%D0%BA%D0%B8%D0%B9/shutter (Caused by ConnectTimeoutError(<urllib3.connection.HTTPSConnection object at 0x000001450C1D1B10>, 'Connection to dictionary.cambridge.org timed out. (connect timeout=10)'))\n"
     ]
    },
    {
     "name": "stderr",
     "output_type": "stream",
     "text": [
      "Парсинг слов:  82%|██████████████████████████████████████████████████▊           | 14704/17930 [44:31<09:05,  5.91it/s]"
     ]
    },
    {
     "name": "stdout",
     "output_type": "stream",
     "text": [
      "Попытка 1 для слова \"smack\" не удалась. Ошибка: HTTPSConnectionPool(host='dictionary.cambridge.org', port=443): Max retries exceeded with url: /ru/%D1%81%D0%BB%D0%BE%D0%B2%D0%B0%D1%80%D1%8C/%D0%B0%D0%BD%D0%B3%D0%BB%D0%BE-%D1%80%D1%83%D1%81%D1%81%D0%BA%D0%B8%D0%B9/smack (Caused by ConnectTimeoutError(<urllib3.connection.HTTPSConnection object at 0x000001450C786290>, 'Connection to dictionary.cambridge.org timed out. (connect timeout=10)'))\n"
     ]
    },
    {
     "name": "stderr",
     "output_type": "stream",
     "text": [
      "Парсинг слов:  84%|███████████████████████████████████████████████████▊          | 14982/17930 [45:20<09:50,  4.99it/s]"
     ]
    },
    {
     "name": "stdout",
     "output_type": "stream",
     "text": [
      "Попытка 1 для слова \"speak\" не удалась. Ошибка: HTTPSConnectionPool(host='dictionary.cambridge.org', port=443): Max retries exceeded with url: /ru/%D1%81%D0%BB%D0%BE%D0%B2%D0%B0%D1%80%D1%8C/%D0%B0%D0%BD%D0%B3%D0%BB%D0%BE-%D1%80%D1%83%D1%81%D1%81%D0%BA%D0%B8%D0%B9/speak (Caused by ConnectTimeoutError(<urllib3.connection.HTTPSConnection object at 0x000001450BE99190>, 'Connection to dictionary.cambridge.org timed out. (connect timeout=10)'))\n"
     ]
    },
    {
     "name": "stderr",
     "output_type": "stream",
     "text": [
      "Парсинг слов:  85%|████████████████████████████████████████████████████▌         | 15213/17930 [46:04<09:24,  4.82it/s]"
     ]
    },
    {
     "name": "stdout",
     "output_type": "stream",
     "text": [
      "Попытка 1 для слова \"stamina\" не удалась. Ошибка: HTTPSConnectionPool(host='dictionary.cambridge.org', port=443): Max retries exceeded with url: /ru/%D1%81%D0%BB%D0%BE%D0%B2%D0%B0%D1%80%D1%8C/%D0%B0%D0%BD%D0%B3%D0%BB%D0%BE-%D1%80%D1%83%D1%81%D1%81%D0%BA%D0%B8%D0%B9/stamina (Caused by ConnectTimeoutError(<urllib3.connection.HTTPSConnection object at 0x000001450E3808D0>, 'Connection to dictionary.cambridge.org timed out. (connect timeout=10)'))\n"
     ]
    },
    {
     "name": "stderr",
     "output_type": "stream",
     "text": [
      "Парсинг слов:  86%|█████████████████████████████████████████████████████▍        | 15465/17930 [46:52<07:40,  5.35it/s]"
     ]
    },
    {
     "name": "stdout",
     "output_type": "stream",
     "text": [
      "Попытка 1 для слова \"streetcar\" не удалась. Ошибка: HTTPSConnectionPool(host='dictionary.cambridge.org', port=443): Max retries exceeded with url: /ru/%D1%81%D0%BB%D0%BE%D0%B2%D0%B0%D1%80%D1%8C/%D0%B0%D0%BD%D0%B3%D0%BB%D0%BE-%D1%80%D1%83%D1%81%D1%81%D0%BA%D0%B8%D0%B9/streetcar (Caused by ConnectTimeoutError(<urllib3.connection.HTTPSConnection object at 0x000001450DFB6DD0>, 'Connection to dictionary.cambridge.org timed out. (connect timeout=10)'))\n"
     ]
    },
    {
     "name": "stderr",
     "output_type": "stream",
     "text": [
      "Парсинг слов:  88%|██████████████████████████████████████████████████████▎       | 15713/17930 [47:39<10:09,  3.64it/s]"
     ]
    },
    {
     "name": "stdout",
     "output_type": "stream",
     "text": [
      "Попытка 1 для слова \"supervise\" не удалась. Ошибка: HTTPSConnectionPool(host='dictionary.cambridge.org', port=443): Max retries exceeded with url: /ru/%D1%81%D0%BB%D0%BE%D0%B2%D0%B0%D1%80%D1%8C/%D0%B0%D0%BD%D0%B3%D0%BB%D0%BE-%D1%80%D1%83%D1%81%D1%81%D0%BA%D0%B8%D0%B9/supervise (Caused by ConnectTimeoutError(<urllib3.connection.HTTPSConnection object at 0x000001450BA67A50>, 'Connection to dictionary.cambridge.org timed out. (connect timeout=10)'))\n"
     ]
    },
    {
     "name": "stderr",
     "output_type": "stream",
     "text": [
      "Парсинг слов:  89%|███████████████████████████████████████████████████████▎      | 15979/17930 [48:27<06:50,  4.75it/s]"
     ]
    },
    {
     "name": "stdout",
     "output_type": "stream",
     "text": [
      "Попытка 1 для слова \"task\" не удалась. Ошибка: HTTPSConnectionPool(host='dictionary.cambridge.org', port=443): Max retries exceeded with url: /ru/%D1%81%D0%BB%D0%BE%D0%B2%D0%B0%D1%80%D1%8C/%D0%B0%D0%BD%D0%B3%D0%BB%D0%BE-%D1%80%D1%83%D1%81%D1%81%D0%BA%D0%B8%D0%B9/task (Caused by ConnectTimeoutError(<urllib3.connection.HTTPSConnection object at 0x000001450E4B1F90>, 'Connection to dictionary.cambridge.org timed out. (connect timeout=10)'))\n"
     ]
    },
    {
     "name": "stderr",
     "output_type": "stream",
     "text": [
      "Парсинг слов:  91%|████████████████████████████████████████████████████████▏     | 16233/17930 [49:14<04:27,  6.33it/s]"
     ]
    },
    {
     "name": "stdout",
     "output_type": "stream",
     "text": [
      "Попытка 1 для слова \"thingy\" не удалась. Ошибка: HTTPSConnectionPool(host='dictionary.cambridge.org', port=443): Max retries exceeded with url: /ru/%D1%81%D0%BB%D0%BE%D0%B2%D0%B0%D1%80%D1%8C/%D0%B0%D0%BD%D0%B3%D0%BB%D0%BE-%D1%80%D1%83%D1%81%D1%81%D0%BA%D0%B8%D0%B9/thingy (Caused by ConnectTimeoutError(<urllib3.connection.HTTPSConnection object at 0x000001450C73B910>, 'Connection to dictionary.cambridge.org timed out. (connect timeout=10)'))\n"
     ]
    },
    {
     "name": "stderr",
     "output_type": "stream",
     "text": [
      "Парсинг слов:  92%|████████████████████████████████████████████████████████▉     | 16463/17930 [49:56<06:04,  4.03it/s]"
     ]
    },
    {
     "name": "stdout",
     "output_type": "stream",
     "text": [
      "Попытка 1 для слова \"tonne\" не удалась. Ошибка: HTTPSConnectionPool(host='dictionary.cambridge.org', port=443): Max retries exceeded with url: /ru/%D1%81%D0%BB%D0%BE%D0%B2%D0%B0%D1%80%D1%8C/%D0%B0%D0%BD%D0%B3%D0%BB%D0%BE-%D1%80%D1%83%D1%81%D1%81%D0%BA%D0%B8%D0%B9/tonne (Caused by ConnectTimeoutError(<urllib3.connection.HTTPSConnection object at 0x00000145062FC350>, 'Connection to dictionary.cambridge.org timed out. (connect timeout=10)'))\n"
     ]
    },
    {
     "name": "stderr",
     "output_type": "stream",
     "text": [
      "Парсинг слов:  93%|█████████████████████████████████████████████████████████▊    | 16718/17930 [50:43<03:57,  5.11it/s]"
     ]
    },
    {
     "name": "stdout",
     "output_type": "stream",
     "text": [
      "Попытка 1 для слова \"troublesome\" не удалась. Ошибка: HTTPSConnectionPool(host='dictionary.cambridge.org', port=443): Max retries exceeded with url: /ru/%D1%81%D0%BB%D0%BE%D0%B2%D0%B0%D1%80%D1%8C/%D0%B0%D0%BD%D0%B3%D0%BB%D0%BE-%D1%80%D1%83%D1%81%D1%81%D0%BA%D0%B8%D0%B9/troublesome (Caused by ConnectTimeoutError(<urllib3.connection.HTTPSConnection object at 0x000001450D9FF6D0>, 'Connection to dictionary.cambridge.org timed out. (connect timeout=10)'))\n"
     ]
    },
    {
     "name": "stderr",
     "output_type": "stream",
     "text": [
      "Парсинг слов:  95%|██████████████████████████████████████████████████████████▋   | 16975/17930 [51:29<02:27,  6.46it/s]"
     ]
    },
    {
     "name": "stdout",
     "output_type": "stream",
     "text": [
      "Попытка 1 для слова \"unending\" не удалась. Ошибка: HTTPSConnectionPool(host='dictionary.cambridge.org', port=443): Max retries exceeded with url: /ru/%D1%81%D0%BB%D0%BE%D0%B2%D0%B0%D1%80%D1%8C/%D0%B0%D0%BD%D0%B3%D0%BB%D0%BE-%D1%80%D1%83%D1%81%D1%81%D0%BA%D0%B8%D0%B9/unending (Caused by ConnectTimeoutError(<urllib3.connection.HTTPSConnection object at 0x000001450B469F90>, 'Connection to dictionary.cambridge.org timed out. (connect timeout=10)'))\n"
     ]
    },
    {
     "name": "stderr",
     "output_type": "stream",
     "text": [
      "Парсинг слов:  96%|███████████████████████████████████████████████████████████▍  | 17205/17930 [52:11<02:17,  5.28it/s]"
     ]
    },
    {
     "name": "stdout",
     "output_type": "stream",
     "text": [
      "Попытка 1 для слова \"upwards\" не удалась. Ошибка: HTTPSConnectionPool(host='dictionary.cambridge.org', port=443): Max retries exceeded with url: /ru/%D1%81%D0%BB%D0%BE%D0%B2%D0%B0%D1%80%D1%8C/%D0%B0%D0%BD%D0%B3%D0%BB%D0%BE-%D1%80%D1%83%D1%81%D1%81%D0%BA%D0%B8%D0%B9/upwards (Caused by ConnectTimeoutError(<urllib3.connection.HTTPSConnection object at 0x0000014504469DD0>, 'Connection to dictionary.cambridge.org timed out. (connect timeout=10)'))\n"
     ]
    },
    {
     "name": "stderr",
     "output_type": "stream",
     "text": [
      "Парсинг слов:  97%|████████████████████████████████████████████████████████████▎ | 17436/17930 [52:57<01:47,  4.58it/s]"
     ]
    },
    {
     "name": "stdout",
     "output_type": "stream",
     "text": [
      "Попытка 1 для слова \"vocal\" не удалась. Ошибка: HTTPSConnectionPool(host='dictionary.cambridge.org', port=443): Max retries exceeded with url: /ru/%D1%81%D0%BB%D0%BE%D0%B2%D0%B0%D1%80%D1%8C/%D0%B0%D0%BD%D0%B3%D0%BB%D0%BE-%D1%80%D1%83%D1%81%D1%81%D0%BA%D0%B8%D0%B9/vocal (Caused by ConnectTimeoutError(<urllib3.connection.HTTPSConnection object at 0x000001450B0EF290>, 'Connection to dictionary.cambridge.org timed out. (connect timeout=10)'))\n"
     ]
    },
    {
     "name": "stderr",
     "output_type": "stream",
     "text": [
      "Парсинг слов:  99%|█████████████████████████████████████████████████████████████▎| 17718/17930 [53:49<00:37,  5.66it/s]"
     ]
    },
    {
     "name": "stdout",
     "output_type": "stream",
     "text": [
      "Попытка 1 для слова \"whooping cough\" не удалась. Ошибка: HTTPSConnectionPool(host='dictionary.cambridge.org', port=443): Max retries exceeded with url: /ru/%D1%81%D0%BB%D0%BE%D0%B2%D0%B0%D1%80%D1%8C/%D0%B0%D0%BD%D0%B3%D0%BB%D0%BE-%D1%80%D1%83%D1%81%D1%81%D0%BA%D0%B8%D0%B9/whooping-cough (Caused by ConnectTimeoutError(<urllib3.connection.HTTPSConnection object at 0x000001450DBE0A50>, 'Connection to dictionary.cambridge.org timed out. (connect timeout=10)'))\n"
     ]
    },
    {
     "name": "stderr",
     "output_type": "stream",
     "text": [
      "Парсинг слов: 100%|██████████████████████████████████████████████████████████████| 17930/17930 [54:26<00:00,  5.49it/s]\n"
     ]
    }
   ],
   "source": [
    "import requests\n",
    "from bs4 import BeautifulSoup\n",
    "import pandas as pd\n",
    "import time\n",
    "from tqdm import tqdm\n",
    "from concurrent.futures import ThreadPoolExecutor, as_completed\n",
    "\n",
    "# Функция для очистки фразы и замены символов\n",
    "def sanitize_phrase(phrase):\n",
    "    sanitized = phrase.replace(' ', '-')\n",
    "    sanitized = sanitized.replace('/', '-').replace(',', '').replace('\\'', '-').replace('.', '')\n",
    "    return sanitized\n",
    "\n",
    "# Функция для получения данных с Cambridge Dictionary с обработкой ошибок и повторными попытками\n",
    "def parse_cambridge(word, retries=30, delay=0.2):\n",
    "    base_url = 'https://dictionary.cambridge.org/ru/словарь/англо-русский/'\n",
    "    word_url = sanitize_phrase(word)\n",
    "    url = f'{base_url}{word_url}'\n",
    "    \n",
    "    # Заголовки, включая User-Agent\n",
    "    headers = {\n",
    "        'User-Agent': 'Mozilla/5.0 (Windows NT 10.0; Win64; x64; rv:92.0) Gecko/20100101 Firefox/92.0'\n",
    "    }\n",
    "    \n",
    "    for attempt in range(retries):\n",
    "        try:\n",
    "            response = requests.get(url, headers=headers, timeout=10)  # Увеличиваем timeout до 10 секунд\n",
    "            response.raise_for_status()  # Проверяем, успешен ли запрос\n",
    "            soup = BeautifulSoup(response.content, 'html.parser')\n",
    "\n",
    "            # Проверка на наличие phrasal verb\n",
    "            phrasal_verb = soup.find('span', {'title': 'Verb with an adverb or preposition, with meaning different from meaning of its parts.'})\n",
    "            if phrasal_verb:\n",
    "                return None\n",
    "            \n",
    "            # Поиск всех блоков dsense\n",
    "            dsense_blocks = soup.find_all('div', class_='sense-body')\n",
    "            translations = []\n",
    "\n",
    "            # Извлечение данных из каждого подходящего блока\n",
    "            for dsense in dsense_blocks:\n",
    "                # Проверка на наличие phrase-block внутри dsense\n",
    "                phrase_block = dsense.find('div', class_='phrase-block')\n",
    "                if phrase_block:\n",
    "                    continue  # Пропускаем этот блок\n",
    "\n",
    "                # Извлечение headword (dsense_hw)\n",
    "                headword_block = soup.find('span', {'class': 'hw dhw'})\n",
    "                headword = headword_block.text.strip() if headword_block else 'Нет headword'\n",
    "\n",
    "                # Извлечение перевода (trans)\n",
    "                trans = dsense.find('span', {'class': 'trans'})\n",
    "                trans_text = trans.text.strip() if trans else 'Нет перевода'\n",
    "\n",
    "                # Извлечение примера (examp)\n",
    "                examp = dsense.find('div', {'class': 'examp'})\n",
    "                examp_text = examp.text.strip() if examp else 'Нет примера'\n",
    "\n",
    "                # Извлечение уровня сложности (epp-xref)\n",
    "                epp_xref = dsense.find('span', {'class': 'epp-xref'})\n",
    "                epp_xref_text = epp_xref.text.strip() if epp_xref else 'без уровня'\n",
    "\n",
    "                # Сохраняем данные\n",
    "                translations.append({\n",
    "                    'headword': headword,\n",
    "                    'translation': trans_text,\n",
    "                    'example': examp_text,\n",
    "                    'level': epp_xref_text\n",
    "                })\n",
    "\n",
    "            if not translations:  # Если переводы не найдены, проверяем наличие блока pos-header\n",
    "                pos_header = soup.find('div', class_='pos-header')\n",
    "                if pos_header:\n",
    "                    hw = pos_header.find('span', class_='hw')\n",
    "                    dhw = pos_header.find('span', class_='dhw')\n",
    "\n",
    "                    headword = hw.text.strip() if hw else dhw.text.strip() if dhw else 'Нет headword'\n",
    "                    translations.append({\n",
    "                        'headword': headword,\n",
    "                        'translation': 'Нет перевода',  # Здесь можно указать, если это нужно\n",
    "                        'example': 'Нет примера',\n",
    "                        'level': 'без уровня'\n",
    "                    })\n",
    "\n",
    "            return {'word': word, 'translations': translations}\n",
    "        \n",
    "        except (requests.exceptions.Timeout, requests.exceptions.ConnectionError) as e:\n",
    "            print(f'Попытка {attempt+1} для слова \"{word}\" не удалась. Ошибка: {e}')\n",
    "            if attempt < retries - 1:\n",
    "                time.sleep(delay)  # Ожидание перед повторной попыткой\n",
    "            else:\n",
    "                print(f'Не удалось подключиться к {url} после {retries} попыток.')\n",
    "                return None\n",
    "\n",
    "# Функция для многопоточной обработки фраз\n",
    "def process_words(word_list, max_workers=5):\n",
    "    results = []\n",
    "    with ThreadPoolExecutor(max_workers=max_workers) as executor:\n",
    "        futures = {executor.submit(parse_cambridge, word): word for word in word_list}\n",
    "        for future in tqdm(as_completed(futures), total=len(futures), desc=\"Парсинг слов\"):\n",
    "            word = futures[future]\n",
    "            try:\n",
    "                data = future.result()\n",
    "                if data:\n",
    "                    for translation in data['translations']:\n",
    "                        results.append({\n",
    "                            'word': data['word'],\n",
    "                            'headword': translation['headword'],\n",
    "                            'translation': translation['translation'],  # Перевод берется из dsense\n",
    "                            'example': translation['example'],\n",
    "                            'level': translation['level']\n",
    "                        })\n",
    "            except Exception as e:\n",
    "                print(f\"Ошибка при обработке слова {word}: {e}\")\n",
    "    return results\n",
    "\n",
    "# Чтение фраз из Excel файла\n",
    "file_path = 'parsed_cambridge_data.xlsx'\n",
    "parsed_data = pd.read_excel(file_path)\n",
    "\n",
    "# Многопоточная обработка фраз\n",
    "word_list = parsed_data[parsed_data.columns[0]].tolist()  # Преобразуем столбец в список\n",
    "results = process_words(word_list)\n",
    "\n",
    "# Преобразование результатов в DataFrame для удобного вывода\n",
    "parsed_df = pd.DataFrame(results)\n",
    "\n",
    "# Сохранение результатов в Excel, где каждый перевод на новой строке\n",
    "parsed_df.to_excel('parsed_cambridge_dsense.xlsx', index=False)\n"
   ]
  },
  {
   "cell_type": "code",
   "execution_count": 38,
   "id": "7c3b003c",
   "metadata": {},
   "outputs": [],
   "source": [
    "import os\n",
    "os.startfile('parsed_cambridge_dsense.xlsx')"
   ]
  },
  {
   "cell_type": "markdown",
   "id": "cd1d7441",
   "metadata": {},
   "source": [
    "# Перевод слов и рунонов"
   ]
  },
  {
   "cell_type": "code",
   "execution_count": 39,
   "id": "ae19bd96",
   "metadata": {},
   "outputs": [
    {
     "name": "stderr",
     "output_type": "stream",
     "text": [
      "Перевод примеров:  25%|██████████████▋                                            | 6554/26385 [12:21<20:56, 15.78it/s]"
     ]
    },
    {
     "name": "stdout",
     "output_type": "stream",
     "text": [
      "Ошибка при переводе: Response ended prematurelyОшибка при переводе: Response ended prematurely\n",
      "\n",
      "Ошибка при переводе: Response ended prematurely\n"
     ]
    },
    {
     "name": "stderr",
     "output_type": "stream",
     "text": [
      "Перевод примеров:  57%|█████████████████████████████████                         | 15029/26385 [23:56<11:32, 16.40it/s]"
     ]
    },
    {
     "name": "stdout",
     "output_type": "stream",
     "text": [
      "Ошибка при переводе: Response ended prematurelyОшибка при переводе: ('Connection aborted.', ConnectionAbortedError(10053, 'Программа на вашем хост-компьютере разорвала установленное подключение', None, 10053, None))\n",
      "\n",
      "Ошибка при переводе: ('Connection aborted.', ConnectionAbortedError(10053, 'Программа на вашем хост-компьютере разорвала установленное подключение', None, 10053, None))\n",
      "Ошибка при переводе: Response ended prematurely\n",
      "Ошибка при переводе: ('Connection aborted.', ConnectionAbortedError(10053, 'Программа на вашем хост-компьютере разорвала установленное подключение', None, 10053, None))\n"
     ]
    },
    {
     "name": "stderr",
     "output_type": "stream",
     "text": [
      "Перевод примеров: 100%|██████████████████████████████████████████████████████████| 26385/26385 [36:33<00:00, 12.03it/s]\n"
     ]
    },
    {
     "name": "stdout",
     "output_type": "stream",
     "text": [
      "Переводы записаны в файл: parsed_cambridge_words_translated.xlsx\n"
     ]
    }
   ],
   "source": [
    "import pandas as pd\n",
    "from deep_translator import GoogleTranslator\n",
    "from tqdm import tqdm\n",
    "from concurrent.futures import ThreadPoolExecutor, as_completed\n",
    "\n",
    "# Загрузка файла\n",
    "file_path = 'parsed_cambridge_words.xlsx'\n",
    "df = pd.read_excel(file_path)\n",
    "\n",
    "# Функция для перевода текста\n",
    "def translate_example(example):\n",
    "    if example == 'Нет примера':\n",
    "        return 'Нет примера'\n",
    "    try:\n",
    "        translation = GoogleTranslator(source='auto', target='ru').translate(example)\n",
    "        return translation\n",
    "    except Exception as e:\n",
    "        print(f\"Ошибка при переводе: {e}\")\n",
    "        return 'Ошибка'\n",
    "\n",
    "# Функция для многопоточного перевода\n",
    "def translate_examples_in_parallel(examples):\n",
    "    translations = [None] * len(examples)  # Инициализируем список переводов\n",
    "    with ThreadPoolExecutor(max_workers=5) as executor:  # Укажите количество потоков\n",
    "        future_to_index = {executor.submit(translate_example, example): index for index, example in enumerate(examples)}\n",
    "        for future in tqdm(as_completed(future_to_index), total=len(future_to_index), desc=\"Перевод примеров\"):\n",
    "            index = future_to_index[future]\n",
    "            translations[index] = future.result()  # Сохраняем результат в правильный индекс\n",
    "    return translations\n",
    "\n",
    "# Применение многопоточного перевода ко всем примерам\n",
    "df['translated_example'] = translate_examples_in_parallel(df['example'].tolist())\n",
    "\n",
    "# Сохранение результата в новый файл\n",
    "output_path = 'parsed_cambridge_words_translated.xlsx'\n",
    "df.to_excel(output_path, index=False)\n",
    "\n",
    "print(f\"Переводы записаны в файл: {output_path}\")\n"
   ]
  },
  {
   "cell_type": "code",
   "execution_count": 40,
   "id": "9e368f44",
   "metadata": {},
   "outputs": [],
   "source": [
    "import os\n",
    "os.startfile('parsed_cambridge_words_translated.xlsx')"
   ]
  },
  {
   "cell_type": "markdown",
   "id": "bb4dbdc3",
   "metadata": {},
   "source": [
    "# Озвучка"
   ]
  },
  {
   "cell_type": "code",
   "execution_count": null,
   "id": "faf5c7a0",
   "metadata": {},
   "outputs": [],
   "source": [
    "pip install edge-tts"
   ]
  },
  {
   "cell_type": "code",
   "execution_count": 43,
   "id": "c3830362",
   "metadata": {
    "scrolled": false
   },
   "outputs": [
    {
     "name": "stderr",
     "output_type": "stream",
     "text": [
      "Generating Audio:  10%|█████▉                                                   | 2757/26385 [19:15<2:27:44,  2.67it/s]"
     ]
    },
    {
     "name": "stdout",
     "output_type": "stream",
     "text": [
      "Error generating audio for 'knickers' (Attempt 1/3): Connection timeout to host wss://speech.platform.bing.com/consumer/speech/synthesize/readaloud/edge/v1?TrustedClientToken=6A5AA1D4EAFF4E9FB37E23D68491D6F4&ConnectionId=2a7f5c56c13a4fe2b2af6f8fb83e0d6a\n"
     ]
    },
    {
     "name": "stderr",
     "output_type": "stream",
     "text": [
      "Generating Audio:  36%|████████████████████▍                                    | 9488/26385 [59:10<1:43:46,  2.71it/s]"
     ]
    },
    {
     "name": "stdout",
     "output_type": "stream",
     "text": [
      "Error generating audio for 'con artist' (Attempt 1/3): No audio was received. Please verify that your parameters are correct.\n"
     ]
    },
    {
     "name": "stderr",
     "output_type": "stream",
     "text": [
      "Generating Audio:  54%|████████████████████████████▉                         | 14158/26385 [1:28:24<1:51:02,  1.84it/s]"
     ]
    },
    {
     "name": "stdout",
     "output_type": "stream",
     "text": [
      "Error generating audio for 'horse-drawn' (Attempt 1/3): [WinError 10054] Удаленный хост принудительно разорвал существующее подключение\n"
     ]
    },
    {
     "name": "stderr",
     "output_type": "stream",
     "text": [
      "Generating Audio:  75%|█████████████████████████████████████████▉              | 19761/26385 [2:04:42<39:19,  2.81it/s]"
     ]
    },
    {
     "name": "stdout",
     "output_type": "stream",
     "text": [
      "Error generating audio for 'rustle' (Attempt 1/3): Connection timeout to host wss://speech.platform.bing.com/consumer/speech/synthesize/readaloud/edge/v1?TrustedClientToken=6A5AA1D4EAFF4E9FB37E23D68491D6F4&ConnectionId=6c2bb5305bba4eb58c219e22bd7342fe\n"
     ]
    },
    {
     "name": "stderr",
     "output_type": "stream",
     "text": [
      "Generating Audio: 100%|████████████████████████████████████████████████████████| 26385/26385 [2:49:31<00:00,  2.59it/s]\n"
     ]
    },
    {
     "name": "stdout",
     "output_type": "stream",
     "text": [
      "All audio files generated and saved in audio_files_words. Updated file saved as parsed_cambridge_words_translated_with_audio.xlsx.\n"
     ]
    }
   ],
   "source": [
    "import os\n",
    "import pandas as pd\n",
    "from tqdm import tqdm\n",
    "import edge_tts\n",
    "import nest_asyncio\n",
    "import asyncio\n",
    "import re\n",
    "import time\n",
    "\n",
    "# Устанавливаем возможность повторного использования asyncio.run в Jupyter и других средах\n",
    "nest_asyncio.apply()\n",
    "\n",
    "# Загрузка файла\n",
    "input_path = 'parsed_cambridge_words_translated.xlsx'\n",
    "output_folder = 'audio_files_words'\n",
    "os.makedirs(output_folder, exist_ok=True)\n",
    "\n",
    "# Чтение данных\n",
    "df = pd.read_excel(input_path)\n",
    "headwords = df.iloc[:, 1]  # Извлекаем первый столбец с headword\n",
    "\n",
    "# Функция для очистки имени файла от недопустимых символов\n",
    "def sanitize_filename(filename):\n",
    "    return re.sub(r'[\\\\/*?:\"<>|]', \" \", filename)\n",
    "\n",
    "# Инициализация Edge TTS\n",
    "async def generate_audio(text, file_path):\n",
    "    communicate = edge_tts.Communicate(text, voice=\"en-US-GuyNeural\")\n",
    "    await communicate.save(file_path)\n",
    "\n",
    "# Функция с несколькими попытками генерации аудио\n",
    "def try_generate_audio(word, audio_file, retries=3, delay=2):\n",
    "    sanitized_word = sanitize_filename(word)\n",
    "    success = False\n",
    "    \n",
    "    for attempt in range(retries):\n",
    "        try:\n",
    "            asyncio.run(generate_audio(sanitized_word, audio_file))\n",
    "            success = True\n",
    "            break\n",
    "        except Exception as e:\n",
    "            print(f\"Error generating audio for '{sanitized_word}' (Attempt {attempt+1}/{retries}): {e}\")\n",
    "            time.sleep(delay)  # Ожидание перед повторной попыткой\n",
    "    \n",
    "    return success\n",
    "\n",
    "# Обрабатываем озвучку для каждого слова\n",
    "audio_links = []\n",
    "for word in tqdm(headwords, desc=\"Generating Audio\"):\n",
    "    audio_file = f\"{output_folder}/{sanitize_filename(word)}.mp3\"\n",
    "    \n",
    "    if not os.path.exists(audio_file):\n",
    "        # Пытаемся сгенерировать аудиофайл с несколькими попытками\n",
    "        success = try_generate_audio(word, audio_file)\n",
    "        if not success:\n",
    "            audio_file = \"Error: Audio not generated\"\n",
    "    \n",
    "    # Записываем путь к аудиофайлу (или сообщение об ошибке)\n",
    "    audio_links.append(audio_file)\n",
    "\n",
    "# Добавляем ссылки на аудио в столбец F\n",
    "df['audio_path'] = audio_links\n",
    "\n",
    "# Сохранение обновленного файла\n",
    "output_path = 'parsed_cambridge_words_translated_with_audio.xlsx'\n",
    "df.to_excel(output_path, index=False)\n",
    "\n",
    "print(f\"All audio files generated and saved in {output_folder}. Updated file saved as {output_path}.\")\n"
   ]
  },
  {
   "cell_type": "markdown",
   "id": "22d070b7",
   "metadata": {},
   "source": [
    "# Очистка бд"
   ]
  },
  {
   "cell_type": "code",
   "execution_count": 2,
   "id": "03af4edf",
   "metadata": {},
   "outputs": [
    {
     "name": "stdout",
     "output_type": "stream",
     "text": [
      "Очистка таблицы Levels завершена.\n",
      "Сброс автоинкремента для таблицы Levels завершен.\n",
      "Очистка таблицы Translations завершена.\n",
      "Сброс автоинкремента для таблицы Translations завершен.\n",
      "Очистка таблицы UserWordStatus завершена.\n",
      "Сброс автоинкремента для таблицы UserWordStatus завершен.\n",
      "Очистка таблицы Words завершена.\n",
      "Сброс автоинкремента для таблицы Words завершен.\n",
      "База данных успешно очищена.\n"
     ]
    }
   ],
   "source": [
    "import sqlite3\n",
    "\n",
    "# Подключаемся к базе данных\n",
    "conn = sqlite3.connect('dictionary.db')\n",
    "cursor = conn.cursor()\n",
    "\n",
    "# Список таблиц, которые нужно очистить\n",
    "tables = ['Levels', 'Translations', 'UserWordStatus', 'Words']\n",
    "\n",
    "try:\n",
    "    for table in tables:\n",
    "        # Удаляем все записи из таблицы\n",
    "        cursor.execute(f'DELETE FROM {table}')\n",
    "        print(f'Очистка таблицы {table} завершена.')\n",
    "        \n",
    "        # Сбрасываем автоинкремент, если таблица содержит автоинкремент\n",
    "        cursor.execute('DELETE FROM sqlite_sequence WHERE name = ?', (table,))\n",
    "        print(f'Сброс автоинкремента для таблицы {table} завершен.')\n",
    "\n",
    "    # Сохраняем изменения\n",
    "    conn.commit()\n",
    "\n",
    "except Exception as e:\n",
    "    print(f'Произошла ошибка: {e}')\n",
    "\n",
    "finally:\n",
    "    # Закрываем соединение с базой данных\n",
    "    cursor.close()\n",
    "    conn.close()\n",
    "\n",
    "print(\"База данных успешно очищена.\")"
   ]
  },
  {
   "cell_type": "code",
   "execution_count": 3,
   "id": "10d25cef",
   "metadata": {},
   "outputs": [],
   "source": [
    "import sqlite3\n",
    "\n",
    "# Подключаемся к базе данных\n",
    "conn = sqlite3.connect('dictionary.db')\n",
    "cursor = conn.cursor()\n",
    "\n",
    "# Выполняем команду VACUUM\n",
    "cursor.execute('VACUUM')\n",
    "conn.commit()\n",
    "\n",
    "# Закрываем соединение\n",
    "conn.close()\n"
   ]
  },
  {
   "cell_type": "markdown",
   "id": "b6fbd332",
   "metadata": {},
   "source": [
    "# Запись в бд полностью (вместо с озвучкой)"
   ]
  },
  {
   "cell_type": "code",
   "execution_count": 5,
   "id": "f8dfbaf4",
   "metadata": {},
   "outputs": [
    {
     "name": "stdout",
     "output_type": "stream",
     "text": [
      "Столбец 'audio' уже существует. Продолжаем обновление данных.\n"
     ]
    },
    {
     "name": "stderr",
     "output_type": "stream",
     "text": [
      "Обновление базы данных:   2%|█▏                                                    | 593/26385 [00:59<43:06,  9.97it/s]\n"
     ]
    },
    {
     "ename": "KeyboardInterrupt",
     "evalue": "",
     "output_type": "error",
     "traceback": [
      "\u001b[1;31m---------------------------------------------------------------------------\u001b[0m",
      "\u001b[1;31mKeyboardInterrupt\u001b[0m                         Traceback (most recent call last)",
      "Cell \u001b[1;32mIn[5], line 54\u001b[0m\n\u001b[0;32m     52\u001b[0m \u001b[38;5;66;03m# Проверяем, существует ли headword в таблице Words\u001b[39;00m\n\u001b[0;32m     53\u001b[0m cursor\u001b[38;5;241m.\u001b[39mexecute(\u001b[38;5;124m\"\u001b[39m\u001b[38;5;124mSELECT id FROM Words WHERE word = ?\u001b[39m\u001b[38;5;124m\"\u001b[39m, (headword,))\n\u001b[1;32m---> 54\u001b[0m word_result \u001b[38;5;241m=\u001b[39m cursor\u001b[38;5;241m.\u001b[39mfetchone()\n\u001b[0;32m     56\u001b[0m \u001b[38;5;28;01mif\u001b[39;00m word_result \u001b[38;5;129;01mis\u001b[39;00m \u001b[38;5;28;01mNone\u001b[39;00m:\n\u001b[0;32m     57\u001b[0m     \u001b[38;5;66;03m# Если headword нет, вставляем его в таблицу Words\u001b[39;00m\n\u001b[0;32m     58\u001b[0m     cursor\u001b[38;5;241m.\u001b[39mexecute(\u001b[38;5;124m\"\u001b[39m\u001b[38;5;124mINSERT INTO Words (word, level_id) VALUES (?, ?)\u001b[39m\u001b[38;5;124m\"\u001b[39m, (headword, level_id))\n",
      "\u001b[1;31mKeyboardInterrupt\u001b[0m: "
     ]
    }
   ],
   "source": [
    "import os\n",
    "import pandas as pd\n",
    "import sqlite3\n",
    "import time\n",
    "from tqdm import tqdm\n",
    "\n",
    "# Путь к базе данных\n",
    "db_path = 'dictionary.db'\n",
    "\n",
    "# Загрузка данных из файла\n",
    "file_path = 'parsed_cambridge_words_translated_with_audio.xlsx'\n",
    "df = pd.read_excel(file_path)\n",
    "\n",
    "# Подключение к базе данных\n",
    "conn = sqlite3.connect(db_path)\n",
    "cursor = conn.cursor()\n",
    "\n",
    "# Добавление нового столбца audio в таблицу Words (если он ещё не существует)\n",
    "try:\n",
    "    cursor.execute(\"ALTER TABLE Words ADD COLUMN audio BLOB\")\n",
    "    print(\"Столбец 'audio' был успешно добавлен.\")\n",
    "except sqlite3.OperationalError:\n",
    "    print(\"Столбец 'audio' уже существует. Продолжаем обновление данных.\")\n",
    "\n",
    "# Функция для чтения аудиофайла в бинарном формате\n",
    "def read_audio_file(file_path):\n",
    "    try:\n",
    "        with open(file_path, 'rb') as file:\n",
    "            return file.read()\n",
    "    except Exception as e:\n",
    "        print(f\"Ошибка при чтении файла {file_path}: {e}\")\n",
    "        return None\n",
    "\n",
    "# Обновляем базу данных в один проход\n",
    "for index, row in tqdm(df.iterrows(), total=len(df), desc=\"Обновление базы данных\"):\n",
    "    headword = row['headword']\n",
    "    translation = row['translation']\n",
    "    example = row['example']\n",
    "    level = row['level']\n",
    "    audio_path = row['audio_path']\n",
    "    translated_example = row['translated_example'] if 'translated_example' in df.columns else None\n",
    "\n",
    "    # Проверяем, есть ли перевод\n",
    "    if pd.notna(translation) and translation.strip() != \"\":\n",
    "        # Проверяем, существует ли уровень в таблице Levels\n",
    "        cursor.execute(\"INSERT OR IGNORE INTO Levels (name) VALUES (?)\", (level,))\n",
    "\n",
    "        # Получаем id уровня\n",
    "        cursor.execute(\"SELECT id FROM Levels WHERE name = ?\", (level,))\n",
    "        level_id = cursor.fetchone()[0]\n",
    "\n",
    "        # Проверяем, существует ли headword в таблице Words\n",
    "        cursor.execute(\"SELECT id FROM Words WHERE word = ?\", (headword,))\n",
    "        word_result = cursor.fetchone()\n",
    "\n",
    "        if word_result is None:\n",
    "            # Если headword нет, вставляем его в таблицу Words\n",
    "            cursor.execute(\"INSERT INTO Words (word, level_id) VALUES (?, ?)\", (headword, level_id))\n",
    "\n",
    "            # Получаем id слова\n",
    "            cursor.execute(\"SELECT id FROM Words WHERE word = ?\", (headword,))\n",
    "            word_id = cursor.fetchone()[0]\n",
    "        else:\n",
    "            # Если headword уже есть, получаем его id\n",
    "            word_id = word_result[0]\n",
    "\n",
    "        # Вставляем перевод и пример в таблицу Translations\n",
    "        cursor.execute(\"INSERT INTO Translations (word_id, translation, usage_example, example_translation) VALUES (?, ?, ?, ?)\", \n",
    "                       (word_id, translation, example, translated_example))\n",
    "\n",
    "        # Добавляем аудиофайл, если он существует\n",
    "        if not pd.isna(audio_path) and os.path.exists(audio_path):\n",
    "            start_time = time.time()  # Замеряем время начала\n",
    "\n",
    "            # Читаем аудиофайл и сохраняем его в BLOB\n",
    "            audio_data = read_audio_file(audio_path)\n",
    "            \n",
    "            if audio_data:\n",
    "                cursor.execute(\"UPDATE Words SET audio = ? WHERE id = ?\", (audio_data, word_id))\n",
    "                elapsed_time = time.time() - start_time  # Замеряем время выполнения\n",
    "            else:\n",
    "                print(f\"Не удалось обновить аудио для слова '{headword}', файл: {audio_path}\")\n",
    "        else:\n",
    "            print(f\"Файл для аудио отсутствует или путь некорректен: {audio_path}\")\n",
    "\n",
    "# Сохранение изменений и закрытие соединения\n",
    "conn.commit()\n",
    "conn.close()\n",
    "\n",
    "print(\"Данные и аудиофайлы успешно обновлены в базе данных.\")\n"
   ]
  },
  {
   "cell_type": "code",
   "execution_count": null,
   "id": "55da8482",
   "metadata": {},
   "outputs": [],
   "source": []
  }
 ],
 "metadata": {
  "kernelspec": {
   "display_name": "Python 3 (ipykernel)",
   "language": "python",
   "name": "python3"
  },
  "language_info": {
   "codemirror_mode": {
    "name": "ipython",
    "version": 3
   },
   "file_extension": ".py",
   "mimetype": "text/x-python",
   "name": "python",
   "nbconvert_exporter": "python",
   "pygments_lexer": "ipython3",
   "version": "3.11.4"
  }
 },
 "nbformat": 4,
 "nbformat_minor": 5
}
